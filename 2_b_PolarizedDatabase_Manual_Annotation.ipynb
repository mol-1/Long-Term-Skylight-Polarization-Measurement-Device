{
 "cells": [
  {
   "cell_type": "markdown",
   "metadata": {},
   "source": [
    "# Image Annotator for Labelling Images Into User-Defined Categories\n",
    "Adapted from : https://blogs.sas.com/content/subconsciousmusings/2021/11/23/introducing-jupicl-fast-image-labelling-entirely-within-a-jupyter-notebook/\n",
    "\n",
    "This code displays each image in dataset and allow user to specify weather conditions he can observe (cloudy or not).\n",
    "\n",
    "Input : PolarizedDatabase folder with cropped images grouped in numpy files, you can download all or only some of the \"YYYY-MM-DD_raw.npy\" file days to accelerate processing on your computer.\n",
    "\n",
    "Output : Files with same timestamps than input file in a column and annotations in another column.\n"
   ]
  },
  {
   "cell_type": "markdown",
   "metadata": {},
   "source": [
    "## Import packages and define essential helper functions"
   ]
  },
  {
   "cell_type": "code",
   "execution_count": 2,
   "metadata": {
    "tags": []
   },
   "outputs": [],
   "source": [
    "#import cv2\n",
    "from IPython.display import display, clear_output\n",
    "from PIL import Image\n",
    "import os\n",
    "\n",
    "import numpy as np\n",
    "import matplotlib.pyplot as plt\n",
    "from datetime import datetime\n",
    "from collections import defaultdict\n",
    "import time\n"
   ]
  },
  {
   "cell_type": "code",
   "execution_count": 3,
   "metadata": {
    "tags": []
   },
   "outputs": [],
   "source": [
    "in_path=\"/scratch/lpoughon/PolarizedDatabase/\"\n",
    "calib_path=\"/scratch/lpoughon/PolarizedDatabase/calib/\"\n",
    "out_path=\"/scratch/lpoughon/PolarizedDatabase/\"\n",
    "limit_Zenith_Angle=np.pi*0.5 #Limit Zenith Angle to crop circularly data inside of camera field-of-view.\n",
    "\n",
    "dirs = os.listdir( in_path ) # Listing Files\n",
    "dirs_files=[]\n",
    "for file in dirs:\n",
    "    if file[-7:]=='raw.npy': # Keeping only ones with \".npy\" files. \n",
    "        dirs_files.append(file)\n",
    "dirs_files.sort() #We sort the files in alphabetical order. \n",
    "# Since the format is YYYY-MM-DDTHH-mm-ss.npy, the files are sorted in chronological order."
   ]
  },
  {
   "cell_type": "code",
   "execution_count": 4,
   "metadata": {
    "tags": []
   },
   "outputs": [],
   "source": [
    "def rebin(arr, new_shape): #https://scipython.com/blog/binning-a-2d-array-in-numpy/\n",
    "    shape = (new_shape[0], arr.shape[0] // new_shape[0],\n",
    "             new_shape[1], arr.shape[1] // new_shape[1])\n",
    "    return arr.reshape(shape).mean(-1).mean(1)"
   ]
  },
  {
   "cell_type": "code",
   "execution_count": 5,
   "metadata": {
    "tags": []
   },
   "outputs": [],
   "source": [
    "def mkdict_from_user():\n",
    "    userdict = {}\n",
    "    while True:\n",
    "        res = input(\"Enter 'class_labels:keyboard_shortcut', such as 'bag:b', or 'q' to quit -->  \")\n",
    "        if res == 'q':\n",
    "            break\n",
    "        else:\n",
    "            key, val = res.split(':')\n",
    "            userdict[key] = val\n",
    "    \n",
    "    return userdict"
   ]
  },
  {
   "cell_type": "code",
   "execution_count": 6,
   "metadata": {
    "tags": []
   },
   "outputs": [],
   "source": [
    "def get_userinput(user_labels):\n",
    "    \n",
    "    notes = 'default'\n",
    "    \n",
    "    valid_labels = tuple(user_labels.values())\n",
    "    \n",
    "    while True:\n",
    "        KBN = Keyborad_Shortcut_For_Notes = '7'\n",
    "        \n",
    "        userinput = input(f\"Valid Shortcuts: {valid_labels} <Append'{KBN}' for Notes> ... \")\n",
    "        \n",
    "        L = len(userinput)\n",
    "        if L not in [1,2]:\n",
    "            print('Invalid input, try again...')\n",
    "            continue\n",
    "        \n",
    "        if userinput[0] not in valid_labels:\n",
    "            print(f'Invalid input, valid labels are {valid_labels} try again...')\n",
    "            continue\n",
    "            \n",
    "        if L==2:\n",
    "            if userinput[1] != KBN:\n",
    "                print(f\"Invalid, second letter if present must be the keyboard shortcut for notes: '{KBN}' \")\n",
    "            else:\n",
    "                usernote  = input(\"Notes: \")\n",
    "                if len(usernote)>0:\n",
    "                    notes = usernote\n",
    "                break\n",
    "        \n",
    "        else:\n",
    "            break\n",
    "        \n",
    "    return userinput[0], notes\n",
    "            "
   ]
  },
  {
   "cell_type": "markdown",
   "metadata": {},
   "source": [
    "## Define the main driver function for labelling"
   ]
  },
  {
   "cell_type": "code",
   "execution_count": 7,
   "metadata": {
    "tags": []
   },
   "outputs": [],
   "source": [
    "def goLabel_acq(user_labels, images_pola, liste_sortie_annotee):\n",
    "    #src_imgdir = f\"./images/\"\n",
    "\n",
    "    timestamps=images_pola[:,2]\n",
    "    # Convert timestamps to datetime objects\n",
    "    datetime_objects = [datetime.strptime(timestamp, '%Y-%m-%dT%H-%M-%S') for timestamp in timestamps]\n",
    "\n",
    "    # Round the minutes to the nearest 10 minutes\n",
    "    rounded_datetimes = [dt.replace(minute=(dt.minute // 10) * 10, second=0) for dt in datetime_objects]\n",
    "\n",
    "    # Group the timestamps into a dictionary based on rounded timestamps\n",
    "    result_dict = defaultdict(list)\n",
    "    result_dict_i = defaultdict(list)\n",
    "\n",
    "    for i, rounded_dt in enumerate(rounded_datetimes):\n",
    "        result_dict_i[rounded_dt].append(i)    \n",
    "        result_dict[rounded_dt].append(timestamps[i])\n",
    "\n",
    "    # Convert the defaultdict to a regular dictionary for a cleaner output (optional)\n",
    "    result_dict = dict(result_dict)\n",
    "\n",
    "    ## Print the result\n",
    "    #for key, value in result_dict_i.items():\n",
    "    #    print(f\"{key}: {value}\")\n",
    "    \n",
    "    \n",
    "    def plot_mosaic(images, rows, cols): # Function to display images in a mosaic plot\n",
    "        subsampl=4 #subsampling\n",
    "        fig, axs = plt.subplots(rows, cols, figsize=(cols*4, rows*4))\n",
    "        fig.suptitle(str(timestamp[0])+\" \")\n",
    "        for i, ax in enumerate(axs.flat):\n",
    "            if i < len(images):\n",
    "                img = images[i]\n",
    "                a=rebin(img,(img.shape[0]//2,img.shape[1]//2))\n",
    "                imgRGB = (np.stack([a[0::2,0::2],0.5*(a[0::2,1::2]+a[1::2,0::2]),a[1::2,1::2]], axis=2)/65520.0*255).astype('uint8')\n",
    "                #imgRGB = (np.stack([img[0::2,1::2],0.5*(img[0::2,1::2]+img[1::2,0::2]),img[1::2,1::2]], axis=2)/65520.0*255).astype('uint8')\n",
    "                ax.imshow(imgRGB[::subsampl,::subsampl])  # Assuming images are grayscale\n",
    "\n",
    "                #ax.imshow(img[::subsampl,::subsampl], cmap='gray')  # Assuming images are grayscale\n",
    "                ax.set_title(\"img_type \"+str(image_type[i])+\" \\n expo : \"+str(exposure[i])+\" µs\")\n",
    "\n",
    "\n",
    "                ax.axis('off')\n",
    "            else:\n",
    "                ax.remove()\n",
    "\n",
    "        return fig\n",
    "    \n",
    "\n",
    "    \n",
    "    sess_count = 0\n",
    "    \n",
    "    for my_datetime in (list(result_dict_i.keys())):\n",
    "        \n",
    "        # Extract image data, exposure, and timestamp from the array\n",
    "        indices_to_highlight=result_dict_i[my_datetime]\n",
    "        data = images_pola[indices_to_highlight,:]\n",
    "    \n",
    "    \n",
    "        images = data[:, 0]\n",
    "        exposure = data[:, 1]\n",
    "        timestamp = data[:, 2]\n",
    "        image_type=data[:,3]\n",
    "\n",
    "        N=data.shape[0]\n",
    "\n",
    "        sess_count += 1\n",
    "\n",
    "        # Specify the number of rows and columns in the mosaic\n",
    "        cols = 4\n",
    "        rows = N//cols+1\n",
    "\n",
    "\n",
    "        # Display the mosaic plot\n",
    "        mafig=plot_mosaic(images, rows, cols)\n",
    "        display(plt.gcf()) \n",
    "        #display(Image.fromarray(img))\n",
    "        print(f'Now Showing {timestamp[0]}'+\" (\"+str(sess_count)+\"/\"+str(len(list(result_dict_i.keys())))+\")\")\n",
    "        \n",
    "        label, notes = get_userinput(user_labels)\n",
    "        liste_sortie_annotee[indices_to_highlight,1]=label#'c'\n",
    "        print(\"Choisi : \",label)\n",
    "        #if notes != 'default':\n",
    "\n",
    "        \n",
    "        clear_output()\n",
    "        \n",
    "\n",
    "        plt.close()\n",
    "    \n",
    "\n",
    "    print(f\"You Labelled {sess_count} images in this round. Hooray!\")\n",
    "    return liste_sortie_annotee#Notes"
   ]
  },
  {
   "cell_type": "markdown",
   "metadata": {
    "tags": []
   },
   "source": [
    "## Set up labels and keyboard shortcuts\n",
    "\n",
    "#### For example :\n",
    "\n",
    "dark_sky:n (night)\n",
    "\n",
    "clear_sky:c\n",
    "\n",
    "mist:m\n",
    "\n",
    "few_clouds:f (11-25%)\n",
    "\n",
    "scattered_clouds:s (25-50%) \n",
    "\n",
    "broken_clouds:b (51-84%)\n",
    "\n",
    "overcast_clouds:o (85-100%)"
   ]
  },
  {
   "cell_type": "code",
   "execution_count": 9,
   "metadata": {},
   "outputs": [],
   "source": [
    "user_labels={'dark_sky': 'n',\n",
    " 'clear_sky': 'c',\n",
    " 'mist': 'm',\n",
    " 'few_clouds': 'f',\n",
    " 'scattered_clouds': 's',\n",
    " 'broken_clouds': 'b',\n",
    " 'overcast_clouds': 'o'}"
   ]
  },
  {
   "cell_type": "code",
   "execution_count": null,
   "metadata": {
    "tags": []
   },
   "outputs": [],
   "source": [
    "#user_labels = mkdict_from_user() #uncomment to change user labels"
   ]
  },
  {
   "cell_type": "markdown",
   "metadata": {},
   "source": [
    "## Labelling days"
   ]
  },
  {
   "cell_type": "markdown",
   "metadata": {
    "tags": []
   },
   "source": [
    "### Annotated so far :"
   ]
  },
  {
   "cell_type": "code",
   "execution_count": 55,
   "metadata": {
    "tags": []
   },
   "outputs": [],
   "source": [
    "dirs_ann = os.listdir( out_path ) # Listing Files\n",
    "dirs_ann_files=[]\n",
    "for file in dirs_ann:\n",
    "    if file[-19:]=='raw_annotations.npy': # Keeping only ones with \".npy\" files. \n",
    "        dirs_ann_files.append(file)\n",
    "dirs_ann_files.sort() #We sort the files in alphabetical order. \n",
    "#print(dirs_ann_files)"
   ]
  },
  {
   "cell_type": "code",
   "execution_count": 56,
   "metadata": {
    "tags": []
   },
   "outputs": [
    {
     "name": "stdout",
     "output_type": "stream",
     "text": [
      "0   2022-07-29_raw.npy   2022-07-29_raw_annotations.npy\n",
      "1   2022-07-30_raw.npy   2022-07-30_raw_annotations.npy\n",
      "2   2022-07-31_raw.npy   2022-07-31_raw_annotations.npy\n",
      "3   2022-08-01_raw.npy   2022-08-01_raw_annotations.npy\n",
      "4   2022-08-02_raw.npy   2022-08-02_raw_annotations.npy\n",
      "5   2022-08-03_raw.npy   2022-08-03_raw_annotations.npy\n",
      "6   2022-08-04_raw.npy   2022-08-04_raw_annotations.npy\n",
      "7   2022-08-05_raw.npy   2022-08-05_raw_annotations.npy\n",
      "8   2022-08-06_raw.npy   2022-08-06_raw_annotations.npy\n",
      "9   2022-08-07_raw.npy   2022-08-07_raw_annotations.npy\n",
      "10   2022-08-08_raw.npy   2022-08-08_raw_annotations.npy\n",
      "11   2022-08-09_raw.npy   2022-08-09_raw_annotations.npy\n",
      "12   2022-08-10_raw.npy   2022-08-10_raw_annotations.npy\n",
      "13   2022-08-11_raw.npy   2022-08-11_raw_annotations.npy\n",
      "14   2022-08-12_raw.npy   2022-08-12_raw_annotations.npy\n",
      "15   2022-08-13_raw.npy   2022-08-13_raw_annotations.npy\n",
      "16   2022-08-14_raw.npy   2022-08-14_raw_annotations.npy\n",
      "17   2022-08-15_raw.npy   2022-08-15_raw_annotations.npy\n",
      "18   2022-08-16_raw.npy   2022-08-16_raw_annotations.npy\n",
      "19   2022-08-17_raw.npy   2022-08-17_raw_annotations.npy\n",
      "20   2022-08-18_raw.npy   2022-08-18_raw_annotations.npy\n",
      "21   2022-08-19_raw.npy   2022-08-19_raw_annotations.npy\n",
      "22   2022-08-20_raw.npy   2022-08-20_raw_annotations.npy\n",
      "23   2022-08-21_raw.npy   2022-08-21_raw_annotations.npy\n",
      "24   2022-08-22_raw.npy   2022-08-22_raw_annotations.npy\n",
      "25   2022-08-23_raw.npy   2022-08-23_raw_annotations.npy\n",
      "26   2022-08-24_raw.npy   2022-08-24_raw_annotations.npy\n",
      "27   2022-08-25_raw.npy   2022-08-25_raw_annotations.npy\n",
      "28   2022-08-26_raw.npy   2022-08-26_raw_annotations.npy\n",
      "29   2022-08-27_raw.npy   2022-08-27_raw_annotations.npy\n",
      "30   2022-08-28_raw.npy   2022-08-28_raw_annotations.npy\n",
      "31   2022-08-29_raw.npy   2022-08-29_raw_annotations.npy\n"
     ]
    }
   ],
   "source": [
    "liste_dates=[]\n",
    "for i in range(len(dirs_files)):\n",
    "    rec=dirs_files[i].split('_raw.npy')[0]+'_raw_annotations.npy'\n",
    "    liste_dates.append(dirs_files[i].split('_raw.npy')[0])\n",
    "    if rec in dirs_ann_files:\n",
    "        print(i,\" \",dirs_files[i],\" \",rec)\n",
    "    else:\n",
    "        print(i,\" \",dirs_files[i])"
   ]
  },
  {
   "cell_type": "markdown",
   "metadata": {},
   "source": [
    "### Choose file to annotate by changing the number you want"
   ]
  },
  {
   "cell_type": "code",
   "execution_count": 51,
   "metadata": {
    "tags": []
   },
   "outputs": [
    {
     "name": "stdout",
     "output_type": "stream",
     "text": [
      "Day number :  12\n",
      "File used : /scratch/lpoughon/PolarizedDatabase/2022-08-10_raw.npy\n",
      "Will save results in :/scratch/lpoughon/PolarizedDatabase/2022-08-10_raw_annotations.npy\n"
     ]
    }
   ],
   "source": [
    "day_wanted=12# Change that to choose what day to annotate\n",
    "print(\"Day number : \",day_wanted)\n",
    "print(\"File used :\",in_path+dirs_files[day_wanted])\n",
    "images_pola=np.load(in_path+dirs_files[day_wanted],allow_pickle=True)\n",
    "save_path=out_path+dirs_files[day_wanted].split(\".npy\")[0]+\"_annotations.npy\"\n",
    "print(\"Will save results in :\"+save_path)\n",
    "#images=images_pola[:,0]\n",
    "# the list that will contain timestamps and corresponding annotations\n",
    "liste_sortie_annotee=np.array(images_pola[:,2])\n",
    "liste_sortie_annotee=np.c_[liste_sortie_annotee,np.zeros(liste_sortie_annotee.shape[0])]"
   ]
  },
  {
   "cell_type": "markdown",
   "metadata": {
    "tags": []
   },
   "source": [
    "### Let's annotate !"
   ]
  },
  {
   "cell_type": "code",
   "execution_count": 52,
   "metadata": {
    "tags": []
   },
   "outputs": [
    {
     "name": "stdout",
     "output_type": "stream",
     "text": [
      "You Labelled 94 images in this round. Hooray!\n",
      "Labelling took  228  s\n"
     ]
    }
   ],
   "source": [
    "tic=time.time()\n",
    "labels=goLabel_acq(user_labels, images_pola, liste_sortie_annotee)\n",
    "print(\"Labelling took \",int(time.time()-tic),\" s\")\n",
    "np.save(save_path,labels)"
   ]
  },
  {
   "cell_type": "markdown",
   "metadata": {
    "tags": []
   },
   "source": [
    "dark_sky:n (night)\n",
    "\n",
    "clear_sky:c\n",
    "\n",
    "few_clouds:f (11-25%)\n",
    "\n",
    "scattered_clouds:s (25-50%) \n",
    "\n",
    "broken_clouds:b (51-84%)\n",
    "\n",
    "overcast_clouds:o (85-100%)"
   ]
  },
  {
   "cell_type": "code",
   "execution_count": 13,
   "metadata": {},
   "outputs": [
    {
     "data": {
      "text/plain": [
       "'/scratch/lpoughon/PolarizedDatabase/2022-08-05_raw_annotations.npy'"
      ]
     },
     "execution_count": 13,
     "metadata": {},
     "output_type": "execute_result"
    }
   ],
   "source": [
    "save_path"
   ]
  },
  {
   "cell_type": "code",
   "execution_count": 1,
   "metadata": {
    "tags": []
   },
   "outputs": [
    {
     "ename": "NameError",
     "evalue": "name 'user_labels' is not defined",
     "output_type": "error",
     "traceback": [
      "\u001b[0;31m---------------------------------------------------------------------------\u001b[0m",
      "\u001b[0;31mNameError\u001b[0m                                 Traceback (most recent call last)",
      "Cell \u001b[0;32mIn[1], line 1\u001b[0m\n\u001b[0;32m----> 1\u001b[0m \u001b[43muser_labels\u001b[49m\n",
      "\u001b[0;31mNameError\u001b[0m: name 'user_labels' is not defined"
     ]
    }
   ],
   "source": [
    "user_labels"
   ]
  },
  {
   "cell_type": "code",
   "execution_count": 16,
   "metadata": {
    "tags": []
   },
   "outputs": [
    {
     "data": {
      "text/plain": [
       "['2022-07-29',\n",
       " '2022-07-30',\n",
       " '2022-07-31',\n",
       " '2022-08-01',\n",
       " '2022-08-02',\n",
       " '2022-08-03',\n",
       " '2022-08-04',\n",
       " '2022-08-05',\n",
       " '2022-08-06',\n",
       " '2022-08-07',\n",
       " '2022-08-08',\n",
       " '2022-08-09',\n",
       " '2022-08-10',\n",
       " '2022-08-11',\n",
       " '2022-08-12',\n",
       " '2022-08-13',\n",
       " '2022-08-14',\n",
       " '2022-08-15',\n",
       " '2022-08-16',\n",
       " '2022-08-17',\n",
       " '2022-08-18',\n",
       " '2022-08-19',\n",
       " '2022-08-20',\n",
       " '2022-08-21',\n",
       " '2022-08-22',\n",
       " '2022-08-23',\n",
       " '2022-08-24',\n",
       " '2022-08-25',\n",
       " '2022-08-26',\n",
       " '2022-08-27',\n",
       " '2022-08-28',\n",
       " '2022-08-29']"
      ]
     },
     "execution_count": 16,
     "metadata": {},
     "output_type": "execute_result"
    }
   ],
   "source": [
    "liste_dates"
   ]
  },
  {
   "cell_type": "code",
   "execution_count": 48,
   "metadata": {
    "tags": []
   },
   "outputs": [],
   "source": [
    "dirs_ann = os.listdir( out_path ) # Listing Files\n",
    "dirs_ann_files=[]\n",
    "for file in dirs_ann:\n",
    "    if file[-19:]=='raw_annotations.npy': # Keeping only ones with \".npy\" files. \n",
    "        dirs_ann_files.append(file)\n",
    "dirs_ann_files.sort() #We sort the files in alphabetical order. \n",
    "#print(dirs_ann_files)"
   ]
  },
  {
   "cell_type": "code",
   "execution_count": 49,
   "metadata": {
    "tags": []
   },
   "outputs": [],
   "source": [
    "\n",
    "from datetime import datetime, timedelta\n",
    "\n",
    "\n",
    "def mosaique_meteos(dirs_ann_files,user_labels):\n",
    "    start_hour=6\n",
    "    end_hour=22\n",
    "    \n",
    "    liste_dates=[]\n",
    "    for filen in dirs_files:\n",
    "        liste_dates.append(filen.split(\"_raw\")[0])\n",
    "    print(liste_dates)\n",
    "    a=np.full((97,len(liste_dates)), 'missing')\n",
    "    \n",
    "    for file in dirs_ann_files:\n",
    "        print(file)\n",
    "        date=file.split(\"_raw\")[0]\n",
    "        id_date=np.where(np.array(liste_dates)==date)[0][0]\n",
    "        input_array=np.load(out_path+file,allow_pickle=True)\n",
    "        #input_array=np.array([[None,None]])\n",
    "    \n",
    "\n",
    "        # Function to convert timestamp to datetime object\n",
    "        def parse_timestamp(timestamp):\n",
    "            return datetime.strptime(timestamp, '%Y-%m-%dT%H-%M-%S')\n",
    "\n",
    "\n",
    "        current_date = parse_timestamp(input_array[0, 0]).replace(hour=0, minute=0, second=0, microsecond=0)\n",
    "        start_time = current_date + timedelta(hours=6)\n",
    "        end_time = current_date + timedelta(hours=22)\n",
    "        time_step = timedelta(minutes=10)\n",
    "        current_time = start_time\n",
    "        result_array = []\n",
    "\n",
    "        while current_time <= end_time:\n",
    "            timestamp_str = current_time.strftime('%Y-%m-%dT%H-%M-%S')\n",
    "            # Find the nearest timestamp in the input array\n",
    "            nearest_timestamp = min(input_array[:, 0], key=lambda x: abs(parse_timestamp(x) - current_time))\n",
    "            if parse_timestamp(nearest_timestamp) >= current_time and parse_timestamp(nearest_timestamp) <= current_time + time_step:\n",
    "                color = input_array[input_array[:, 0] == nearest_timestamp, 1][0]\n",
    "                result_array.append([timestamp_str, color])\n",
    "            else:\n",
    "                result_array.append([timestamp_str, 'missing'])\n",
    "            current_time += time_step\n",
    "\n",
    "\n",
    "        result_array=np.array(result_array)\n",
    "\n",
    "        a[:,id_date]=(np.array(result_array)[:,1])\n",
    "        \n",
    "    return a"
   ]
  },
  {
   "cell_type": "code",
   "execution_count": null,
   "metadata": {
    "tags": []
   },
   "outputs": [],
   "source": []
  },
  {
   "cell_type": "code",
   "execution_count": 54,
   "metadata": {
    "tags": []
   },
   "outputs": [
    {
     "name": "stdout",
     "output_type": "stream",
     "text": [
      "['2022-07-29', '2022-07-30', '2022-07-31', '2022-08-01', '2022-08-02', '2022-08-03', '2022-08-04', '2022-08-05', '2022-08-06', '2022-08-07', '2022-08-08', '2022-08-09', '2022-08-10', '2022-08-11', '2022-08-12', '2022-08-13', '2022-08-14', '2022-08-15', '2022-08-16', '2022-08-17', '2022-08-18', '2022-08-19', '2022-08-20', '2022-08-21', '2022-08-22', '2022-08-23', '2022-08-24', '2022-08-25', '2022-08-26', '2022-08-27', '2022-08-28', '2022-08-29']\n",
      "2022-07-29_raw_annotations.npy\n",
      "2022-07-30_raw_annotations.npy\n",
      "2022-07-31_raw_annotations.npy\n",
      "2022-08-01_raw_annotations.npy\n",
      "2022-08-02_raw_annotations.npy\n",
      "2022-08-03_raw_annotations.npy\n",
      "2022-08-04_raw_annotations.npy\n",
      "2022-08-05_raw_annotations.npy\n",
      "2022-08-06_raw_annotations.npy\n",
      "2022-08-07_raw_annotations.npy\n",
      "2022-08-08_raw_annotations.npy\n",
      "2022-08-09_raw_annotations.npy\n",
      "2022-08-10_raw_annotations.npy\n",
      "2022-08-11_raw_annotations.npy\n",
      "2022-08-12_raw_annotations.npy\n",
      "2022-08-13_raw_annotations.npy\n",
      "2022-08-14_raw_annotations.npy\n",
      "2022-08-15_raw_annotations.npy\n",
      "2022-08-16_raw_annotations.npy\n",
      "2022-08-17_raw_annotations.npy\n",
      "2022-08-18_raw_annotations.npy\n",
      "2022-08-19_raw_annotations.npy\n",
      "2022-08-20_raw_annotations.npy\n",
      "2022-08-21_raw_annotations.npy\n",
      "2022-08-22_raw_annotations.npy\n",
      "2022-08-23_raw_annotations.npy\n",
      "2022-08-24_raw_annotations.npy\n",
      "2022-08-25_raw_annotations.npy\n",
      "2022-08-26_raw_annotations.npy\n",
      "2022-08-27_raw_annotations.npy\n",
      "2022-08-28_raw_annotations.npy\n",
      "2022-08-29_raw_annotations.npy\n"
     ]
    },
    {
     "data": {
      "image/png": "[encoded data removed]",
      "text/plain": [
       "<Figure size 800x600 with 1 Axes>"
      ]
     },
     "metadata": {},
     "output_type": "display_data"
    }
   ],
   "source": [
    "from matplotlib.patches import Patch\n",
    "from matplotlib.ticker import FixedLocator, FuncFormatter, MultipleLocator\n",
    "\n",
    "# Define the color table\n",
    "color_table = mosaique_meteos(dirs_ann_files,user_labels)\n",
    "\n",
    "# Define a custom mapping of colors to RGB values\n",
    "color_mapping = {\n",
    "    'n': [0, 0, 0],\n",
    "    'c': [0, 0.7, 0],\n",
    "    'm': [0.5, 1, 0],\n",
    "    'f': [1, 1, 0],\n",
    "    's': [1, 0.5, 0],\n",
    "    'b': [1, 0, 0],\n",
    "    'o': [0.5, 0, 0.5],\n",
    "    'missing': [0.5, 0.5, 0.5]\n",
    "}\n",
    "\n",
    "# Convert color names to RGB values using the custom mapping\n",
    "rgb_colors = np.array([[color_mapping[color] for color in row] for row in color_table])\n",
    "\n",
    "# Create a figure and axes\n",
    "fig, ax = plt.subplots(figsize=(8, 6))\n",
    "\n",
    "# Create a pcolormesh plot using custom colors\n",
    "cax = ax.pcolormesh(np.arange(rgb_colors.shape[1] + 1),\n",
    "                    np.arange(rgb_colors.shape[0] + 1),\n",
    "                    rgb_colors)\n",
    "\n",
    "# Turn off axis labels\n",
    "#ax.axis('off')\n",
    "\n",
    "# Create a legend with custom color patches\n",
    "legend_patches = [\n",
    "    Patch(color=color_mapping['n'], label='Dark sky'),\n",
    "    Patch(color=color_mapping['c'], label='Clear sky'),\n",
    "    Patch(color=color_mapping['m'], label='Mist'),\n",
    "    Patch(color=color_mapping['f'], label='Few Clouds'),\n",
    "    Patch(color=color_mapping['s'], label='Scattered Clouds'),\n",
    "    Patch(color=color_mapping['b'], label='Broken Clouds'),\n",
    "    Patch(color=color_mapping['o'], label='Overcast Clouds'),\n",
    "    Patch(color=color_mapping['missing'], label='Missing Data')\n",
    "]\n",
    "\n",
    "# Add the legend to the plot\n",
    "ax.legend(handles=legend_patches, title='Legend', bbox_to_anchor=(1.05, 1), loc='upper left')\n",
    "\n",
    "#hours = np.arange(6, 22, 10/60)\n",
    "#hours = np.arange(6, 22, 2)  # Change the step to adjust the number of ticks\n",
    "#ax.set_yticks(np.arange(len(hours)) + 0.5)\n",
    "#ax.set_yticklabels([f'{int(h)}:{int((h % 1) * 60):02d}' for h in hours])\n",
    "#ax.set_yticklabels([])\n",
    "\n",
    "\n",
    "\n",
    "\n",
    "# Add y-axis ticks and labels for time from 6:00 to 22:00 with 10-minute intervals\n",
    "#ax.set_yticks(np.arange(0.5, 16.5, 1))  # 16 rows from 6:00 to 22:00\n",
    "#ax.set_yticklabels([f'{hour:02d}:{minute:02d}' for hour in range(6, 23) for minute in range(0, 60, 10)])\n",
    "\n",
    "ytick_locations = np.arange(0, (22-6)*6, 6)\n",
    "ytick_labels = [f'{int(hour/6+6)}:00' for hour in ytick_locations]\n",
    "#print(ytick_locations)\n",
    "#print(ytick_labels)\n",
    "plt.yticks(ytick_locations, ytick_labels)\n",
    "plt.ylabel('Time')\n",
    "\n",
    "#ax.set_yticklabels([f'{int(h)}:00' for h in hours])\n",
    "ax.invert_yaxis()\n",
    "\n",
    "ax.set_xticks(np.arange(len(liste_dates)) + 0.5*0)\n",
    "ax.set_xticklabels(liste_dates,rotation='vertical')\n",
    "\n",
    "# Define custom minor tick locations for the x-axis\n",
    "#yticks_minor = ytick_locations# np.arange(0.5, 10.5, 1)\n",
    "\n",
    "# Define custom minor tick locations for the y-axis\n",
    "#xticks_minor = np.arange(0, 11, 1)\n",
    "\n",
    "\n",
    "ax.grid()\n",
    "\n",
    "# Define custom minor tick locations for the y-axis\n",
    "xticks_minor = np.arange(len(liste_dates)) + 0.5\n",
    "\n",
    "# Show the plot\n",
    "plt.show()\n"
   ]
  },
  {
   "cell_type": "code",
   "execution_count": null,
   "metadata": {},
   "outputs": [],
   "source": []
  },
  {
   "cell_type": "code",
   "execution_count": null,
   "metadata": {},
   "outputs": [],
   "source": []
  }
 ],
 "metadata": {
  "kernelspec": {
   "display_name": "Python 3 (ipykernel)",
   "language": "python",
   "name": "python3"
  },
  "language_info": {
   "codemirror_mode": {
    "name": "ipython",
    "version": 3
   },
   "file_extension": ".py",
   "mimetype": "text/x-python",
   "name": "python",
   "nbconvert_exporter": "python",
   "pygments_lexer": "ipython3",
   "version": "3.9.6"
  }
 },
 "nbformat": 4,
 "nbformat_minor": 4
}
