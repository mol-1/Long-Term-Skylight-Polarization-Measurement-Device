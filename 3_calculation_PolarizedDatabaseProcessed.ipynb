{
 "cells": [
  {
   "cell_type": "markdown",
   "id": "b95682d8-c3a9-4326-be9f-12b7b6008177",
   "metadata": {
    "tags": []
   },
   "source": [
    "# Using raw data to generate polarization images database with rayleigh model for comparison, and figures\n",
    "\n",
    "This code is the most important one for end user of this database. It generate an example of figures and polarimetric treatment of images of the database and generate another database with csv file. Please run it to generate \"processed\" database with easy-to-use csv tables and pre-processed Angle and Degree of Polarization images, with figures to visualize associated data.\n",
    "\n",
    "Input : PolarizedDatabase folder with cropped images grouped in numpy files, you can download all or only some of the \"YYY-MM-DD_raw.npy\" file days to accelerate processing on your computer.\n",
    "\n",
    "Output : PolarizedDatabaseProcessed with csv values and folders sorted by date, with subfolders for each image with a figure and AOP, DOP calculated for each sensor color, and with Rayleigh model equivalent images for comparison."
   ]
  },
  {
   "cell_type": "code",
   "execution_count": null,
   "id": "7095db68-3073-422a-b2ba-d19104eea2ce",
   "metadata": {
    "tags": []
   },
   "outputs": [],
   "source": [
    "import os, sys\n",
    "import numpy as np\n",
    "import matplotlib.pyplot as plt\n",
    "import matplotlib.animation as animation\n",
    "from tqdm import trange\n",
    "import skimage.io\n",
    "import skimage.filters\n",
    "import cv2\n",
    "import time\n",
    "from scipy.spatial.transform import Rotation as R\n",
    "\n",
    "\n",
    "from tqdm import tqdm\n",
    "from p_tqdm import p_map\n",
    "\n",
    "import centroide_images\n",
    "import ephemeride\n",
    "import rayleigh\n",
    "\n",
    "import csv"
   ]
  },
  {
   "cell_type": "code",
   "execution_count": null,
   "id": "1a6042c3-be40-40f2-8718-bc8fc05cf183",
   "metadata": {
    "tags": []
   },
   "outputs": [],
   "source": [
    "in_path=\"/scratch/lpoughon/PolarizedDatabase/\"\n",
    "calib_path=\"/scratch/lpoughon/PolarizedDatabase/calib/\"\n",
    "out_path=\"/scratch/lpoughon/PolarizedDatabaseProcessed/\"\n",
    "limit_Zenith_Angle=np.pi*0.5 #Limit Zenith Angle to crop circularly data inside of camera field-of-view.\n"
   ]
  },
  {
   "cell_type": "code",
   "execution_count": null,
   "id": "5a1acc4a-7771-46a4-90ea-11b681c4bc63",
   "metadata": {
    "tags": []
   },
   "outputs": [],
   "source": [
    "def cart2sph2(x,y,z):\n",
    "    \"\"\"\n",
    "    Entree : trois tableaux numpy avec les n coordonnées selon l'axe x, y et z de n vecteurs\n",
    "    Sortie : deux tableaux numpy avec les n coordonnées en azimut et elevation, en radians, avec la convention elevation  à pi/2 si vecteur selon le plan x-y, et nulle selon z.\n",
    "    \"\"\"\n",
    "    azimuth = np.arctan2(y,x)\n",
    "    elevation = np.pi/2-np.arctan2(z,np.sqrt(x**2 + y**2))\n",
    "    return azimuth, elevation\n",
    "\n",
    "\n",
    "def sph2cart2(azimuth,elevation):\n",
    "    \"\"\"\n",
    "    Entree : deux tableaux numpy avec les n coordonnées en azimut et elevation, en radians, avec la convention elevation  à pi/2 si vecteur selon le plan x-y, et nulle selon z.\n",
    "    Sortie : trois tableaux numpy avec les n coordonnées selon l'axe x, y et z de n vecteurs\n",
    "    \"\"\"\n",
    "    x = np.cos(np.pi/2-elevation) * np.cos(azimuth)\n",
    "    y = np.cos(np.pi/2-elevation) * np.sin(azimuth)\n",
    "    z = np.sin(np.pi/2-elevation)\n",
    "    return x, y, z\n",
    "\n",
    "def average_angle(angle1,angle2):\n",
    "    x=np.cos(angle1)+np.cos(angle2)\n",
    "    y=np.sin(angle1)+np.sin(angle2)\n",
    "    return np.arctan2(y,x)\n",
    "\n",
    "def rebin(arr, new_shape): #https://scipython.com/blog/binning-a-2d-array-in-numpy/\n",
    "    shape = (new_shape[0], arr.shape[0] // new_shape[0],\n",
    "             new_shape[1], arr.shape[1] // new_shape[1])\n",
    "    return arr.reshape(shape).mean(-1).mean(1)\n",
    "\n",
    "def calcul_Psi_Theta_Mes(centroides,x_0,y_0,f,XCoeff,YCoeff):\n",
    "    theta2=(np.hypot(((centroides[:,1]-y_0)*XCoeff),((centroides[:,0]-x_0)*YCoeff))/f)\n",
    "    alpha2=np.arctan2((centroides[:,0]-x_0)*YCoeff,(centroides[:,1]-y_0)*XCoeff)\n",
    "    Psi_Theta_mes2=np.array([alpha2,theta2]).T\n",
    "    return Psi_Theta_mes2\n",
    "\n",
    "degrees=np.pi/180"
   ]
  },
  {
   "cell_type": "code",
   "execution_count": null,
   "id": "b35940c3-074b-4d9e-bb4e-595f656a078d",
   "metadata": {
    "tags": []
   },
   "outputs": [],
   "source": [
    "#Camera color-polarization pattern\n",
    "#definition of which color of the pixel is used for simple figure example\n",
    "couleur=3 #is blue\n",
    "# 0 : R     1 : G\n",
    "# 2 : G     3 : B\n",
    "#definition of which polarizer orientation is used\n",
    "# indice_pol=0 is 0°\n",
    "# 0 :  0°   1 : 45°\n",
    "# 2 : 135°  3 : 90°\n",
    "#0° -> Vertical\n",
    "\n",
    "#Load parameters from calibrations files\n",
    "[crop_x_min,crop_x_max,crop_y_min,crop_y_max]=np.load(calib_path+\"params_crop.npy\")\n",
    "(XSensor,YSensor)=(crop_x_min-crop_x_max,crop_y_max-crop_y_min) # Cropped sensor size en pixels*pixels\n",
    "\n",
    "dist_center=np.load(calib_path+'dist_center.npy') #[1.215145972506110e+03,1.030433565024923e+03]\n",
    "x_0,y_0=dist_center[0]-crop_x_min,dist_center[1]-crop_y_min #Cropped images optical center of distorsion.\n",
    "\n",
    "\n",
    "eph=ephemeride.ephemerides() #Initialisation of ephemerids class to get ephemerids figure."
   ]
  },
  {
   "cell_type": "code",
   "execution_count": null,
   "id": "21e75182-2148-45ce-8cb5-e0ff23893b9f",
   "metadata": {
    "tags": []
   },
   "outputs": [],
   "source": [
    "dirs = os.listdir( in_path ) # Listing Files\n",
    "dirs_files=[]\n",
    "for file in dirs:\n",
    "    if file[-7:]=='raw.npy': # Keeping only ones with \".npy\" files. \n",
    "        dirs_files.append(file)\n",
    "dirs_files.sort() #We sort the files in alphabetical order. \n",
    "# Since the format is YYYY-MM-DDTHH-mm-ss.npy, the files are sorted in chronological order.\n"
   ]
  },
  {
   "cell_type": "code",
   "execution_count": null,
   "id": "1f4fbbb1-2b1a-4a49-9d63-130a503969e9",
   "metadata": {
    "tags": []
   },
   "outputs": [],
   "source": [
    "print(dirs_files)"
   ]
  },
  {
   "cell_type": "code",
   "execution_count": null,
   "id": "8d5988ee-e97d-4b32-a22f-b64fc791b562",
   "metadata": {
    "tags": []
   },
   "outputs": [],
   "source": []
  },
  {
   "cell_type": "markdown",
   "id": "1138046e-dc39-4f11-b343-cab2e5249503",
   "metadata": {
    "tags": []
   },
   "source": [
    "### Load one image to have an example"
   ]
  },
  {
   "cell_type": "code",
   "execution_count": null,
   "id": "fbfa5462-2333-43c4-81b0-fc87b9b6779f",
   "metadata": {
    "tags": []
   },
   "outputs": [],
   "source": [
    "print(\"File used :\",in_path+dirs_files[1])\n",
    "images_pola=np.load(in_path+dirs_files[1],allow_pickle=True)\n",
    "images_pola.shape"
   ]
  },
  {
   "cell_type": "code",
   "execution_count": null,
   "id": "72a35408-0c8c-459a-8523-d3f9d2063db3",
   "metadata": {
    "tags": []
   },
   "outputs": [],
   "source": [
    "image_pola=images_pola[503]\n",
    "print(image_pola)\n",
    "plt.imshow(image_pola[0])\n",
    "plt.colorbar()"
   ]
  },
  {
   "cell_type": "code",
   "execution_count": null,
   "id": "03496b9d-8762-4ba0-b284-65bd4b466357",
   "metadata": {
    "tags": []
   },
   "outputs": [],
   "source": [
    "theta=np.load(calib_path+\"theta_crop.npy\")\n",
    "alpha=np.load(calib_path+\"alpha_crop.npy\")\n",
    "f=float(np.load(calib_path+\"f.npy\"))\n",
    "rot_mat=np.load(calib_path+\"rot_mat.npy\")\n",
    "print(theta.shape)\n",
    "print(alpha.shape)"
   ]
  },
  {
   "cell_type": "markdown",
   "id": "2e94a529-1965-4039-936c-c03d63a0fd26",
   "metadata": {
    "tags": []
   },
   "source": [
    "### Generate a figure like the one in IEEE conference article :\n",
    "#### https://ieeexplore.ieee.org/document/10325176\n",
    "#### https://hal.science/hal-04267766"
   ]
  },
  {
   "cell_type": "code",
   "execution_count": null,
   "id": "1849ba30-0071-4dbb-991c-7795db309433",
   "metadata": {
    "tags": []
   },
   "outputs": [],
   "source": [
    "theta_0=theta[((couleur//2)*2+0//2)::4,((couleur%2)*2+0%2)::4]\n",
    "theta_90=theta[((couleur//2)*2+3//2)::4,((couleur%2)*2+3%2)::4]\n",
    "theta_45=theta[((couleur//2)*2+1//2)::4,((couleur%2)*2+1%2)::4]\n",
    "theta_135=theta[((couleur//2)*2+2//2)::4,((couleur%2)*2+2%2)::4]\n",
    "theta_mini=average_angle(average_angle(theta_0,theta_90),average_angle(theta_45,theta_135))\n",
    "\n",
    "\n",
    "def generate_IEEE_conference_article_figure(image_pola):    \n",
    "    eph=ephemeride.ephemerides() #Initialization of the function used for calculating ephemerides.\n",
    "    expo=image_pola[1] \n",
    "    chainetps=image_pola[2]\n",
    "    \n",
    "    (Psi_sun,Theta_sun)=eph.getAltAzSoleil(chainetps) # Calculation of the ephemeris at the time of capture.\n",
    "    (Ha_sun,Dec_sun)=eph.getHADecSoleil(chainetps) \n",
    "    chaineheure=chainetps.split(\"T\")[1].split(\"-\")\n",
    "    chainedate=chainetps.split('T')[0]\n",
    "    heure_image=ephemeride.Time(chainetps.split(\"T\")[0]+'T'+chaineheure[0]+\":\"+chaineheure[1]+\":\"+chaineheure[2])\n",
    "    image=image_pola[0].astype('int64')\n",
    "\n",
    "    degre_sat=np.count_nonzero(image>=65520)/(image.shape[0]*image.shape[1])\n",
    "        \n",
    "    #Calculation of stokes parameters and of AOP and DOP    \n",
    "    Q=image[((couleur//2)*2+0//2)::4,((couleur%2)*2+0%2)::4]-image[((couleur//2)*2+3//2)::4,((couleur%2)*2+3%2)::4] # I0-I90\n",
    "    U=image[((couleur//2)*2+1//2)::4,((couleur%2)*2+1%2)::4]-image[((couleur//2)*2+2//2)::4,((couleur%2)*2+2%2)::4] # I45-I135\n",
    "    I=0.5*(image[((couleur//2)*2+0//2)::4,((couleur%2)*2+0%2)::4]+image[((couleur//2)*2+3//2)::4,((couleur%2)*2+3%2)::4]+image[((couleur//2)*2+1//2)::4,((couleur%2)*2+1%2)::4]+image[((couleur//2)*2+2//2)::4,((couleur%2)*2+2%2)::4]) # (I0 + I90 + I45 + I135)/2\n",
    "    ksi=(0.5*np.arctan2(U,Q)*180/np.pi)\n",
    "    ksi[theta_mini>np.pi*0.45]=0\n",
    "            \n",
    "    print(\"Creation figure ...\")\n",
    "    fig,(ax1,ax2)=plt.subplots(2,3,figsize=(20,12),gridspec_kw={'width_ratios':[0.95,1.2,1.2]})\n",
    "\n",
    "    plt.suptitle(\"Image : \"+chainetps[:-1]+ \" ~ Color channel :  \"+str([\"R\",\"Gr\",\"Gb\",\"B\"][couleur])+\" ~ Expo : \"+str(expo)+\" µs\")\n",
    "            \n",
    "            \n",
    "    print(\"plot aop image...\")\n",
    "    pcm1=ax2[1].pcolormesh(ksi,cmap='hsv')\n",
    "    ax2[1].set_title(\"Measured AOP\")#chemin.split('ManipeResultats')[1]+\" - AOP - Canal \"+str([\"R\",\"Gr\",\"Gb\",\"B\"][couleur]))\n",
    "    cbar=fig.colorbar(pcm1,ax=ax2[1],shrink=0.9)\n",
    "    cbar.set_ticks([-90,-67.5,-45,-22.5,0,22.5,45,67.5,90])\n",
    "    cbar.set_label(\"Angle of Polarization (°)\")\n",
    "    ax2[1].invert_yaxis()\n",
    "\n",
    "    print(\"plot dop image...\")\n",
    "    DOP_dofp=np.hypot(Q,U)/I \n",
    "    DOP_dofp[theta_mini>np.pi*.45]=0\n",
    "    pcm3=ax2[2].pcolormesh(np.minimum(DOP_dofp,1),cmap='jet',vmin=0.0, vmax=1.0)\n",
    "    ax2[2].set_title(\"Measured DOP\")#chemin.split('ManipeResultats')[1]+\" - DOP - Canal \"+str([\"R\",\"Gr\",\"Gb\",\"B\"][couleur]))\n",
    "    cbardop=fig.colorbar(pcm3,ax=ax2[2],shrink=0.9)\n",
    "    pcm3.set_clim(0, 1.0)#cbardop.vmin=0#cbardop.vmax=1\n",
    "    cbardop.set_ticks([0,0.2,0.4,0.6,0.8,1])\n",
    "    cbardop.set_label(\"Degree of Polarization\")\n",
    "    ax2[2].invert_yaxis()\n",
    "\n",
    "    print(\"plot rgb image...\")\n",
    "    a=rebin(image,(image.shape[0]//2,image.shape[1]//2))\n",
    "    #imageRGB=cv2.merge((a[1::2,1::2],a[0::2,1::2],a[0::2,0::2]))\n",
    "    imageRGB=(cv2.merge((a[0::2,1::2],0.5*(a[0::2,1::2]+a[1::2,0::2]),a[1::2,1::2]))/65520.0*255).astype('uint8')\n",
    "\n",
    "    x, y = np.meshgrid(np.arange(imageRGB.shape[1] + 1), np.arange(imageRGB.shape[0] + 1))\n",
    "\n",
    "    # Plot RGB image using pcolormesh\n",
    "    pc = ax2[0].pcolormesh(x, y, imageRGB, edgecolors='k', linewidths=0.0)\n",
    "    cbarrgb=fig.colorbar(pc,ax=ax2[0],shrink=0.9)\n",
    "    ax2[0].set_aspect('equal')\n",
    "      \n",
    "    d=np.pi/180\n",
    "    r = R.from_matrix(rot_mat)\n",
    "            \n",
    "    Sun_rot_cart=r.apply(np.array(sph2cart2(Psi_sun*d,Theta_sun*d)).T).T\n",
    "    Sun_rot=np.array(cart2sph2(Sun_rot_cart[0],Sun_rot_cart[1],Sun_rot_cart[2])).T\n",
    "            #Sun_rot[0] -> Psi, (az)\n",
    "            #Sun_rot[1] -> Theta, zenith = 0 (anti-elev)\n",
    "    print(\"Psi_sun : \"+str(Psi_sun*degrees)+\" Theta_sun : \"+str(Theta_sun*degrees))\n",
    "    print(\"Sun_rot[0] : \"+str(Sun_rot[0])+\" Sun_rot[1] : \"+str(Sun_rot[1]))\n",
    "    #x_sol,y_sol=np.array([(x_0+f*np.sin(Sun_rot[0])*(Sun_rot[1]))/4]),np.array([(y_0-f*np.cos(Sun_rot[0])*(Sun_rot[1]))/4])\n",
    " \n",
    "            \n",
    "    ax2[0].set_title(\"RGB Image\")                 \n",
    "    print(\"plot ephemeride...\")\n",
    "    eph.traceAzELSoleil(chainetps=chainetps,Ax=ax1[0])\n",
    "\n",
    "    (Psi_sun,Theta_sun)=eph.getAltAzSoleil(chainetps)\n",
    "            \n",
    "    print(\"plot simul rayleigh...\")\n",
    "    \n",
    "    AOP_s,DOP_s=rayleigh.simul_rayleigh_subplot((Psi_sun),Theta_sun,ax_aop=ax1[1],ax_dop=ax1[2],fig=fig,Psi=alpha,Theta=theta,rot_mat=rot_mat)#orientation_pixels_ENU=orientation_ENU)\n",
    "\n",
    "    ax2[1].invert_yaxis()\n",
    "    ax2[2].invert_yaxis()            \n",
    "\n",
    "          \n",
    "    plt.subplots_adjust(left=0.05,right=0.95,top=0.90,bottom=0.05,wspace=0.2,hspace=0.2)\n",
    "    ax2[0].axis('scaled')\n",
    "    ax2[1].axis('scaled')\n",
    "    ax2[2].axis('scaled')\n",
    "    ax1[1].axis('scaled')\n",
    "    ax1[2].axis('scaled')\n",
    "    cbarrgb.remove()\n",
    "    return (U,Q,I,ksi,DOP_dofp,fig)"
   ]
  },
  {
   "cell_type": "code",
   "execution_count": null,
   "id": "68405be1-1061-4bc0-82ec-d37321f73f4d",
   "metadata": {
    "tags": []
   },
   "outputs": [],
   "source": [
    "U,Q,I,A,D,mafig=generate_IEEE_conference_article_figure(image_pola)"
   ]
  },
  {
   "cell_type": "code",
   "execution_count": null,
   "id": "3ca6eb83-e212-4da0-9e8d-0d0f10b97502",
   "metadata": {
    "tags": []
   },
   "outputs": [],
   "source": [
    "mafig.savefig(\"test_figure.png\")"
   ]
  },
  {
   "cell_type": "code",
   "execution_count": null,
   "id": "69419963-6b44-46ee-92ae-a912c3c39661",
   "metadata": {
    "tags": []
   },
   "outputs": [],
   "source": [
    "mafig.show()"
   ]
  },
  {
   "cell_type": "code",
   "execution_count": null,
   "id": "623a66a7-01fa-47da-b519-acb6952d41ff",
   "metadata": {
    "tags": []
   },
   "outputs": [],
   "source": [
    "np.seterr(divide='ignore', invalid='ignore')  # Ignore division by zero and invalid value warnings"
   ]
  },
  {
   "cell_type": "markdown",
   "id": "fff6dfd3-f02b-4a56-97c5-a78af10feeb9",
   "metadata": {
    "tags": []
   },
   "source": [
    "### Calculation of AOP/DOP figure and values for each color, with Rayleigh simulation"
   ]
  },
  {
   "cell_type": "code",
   "execution_count": null,
   "id": "e8605276-223f-4279-93f3-2edce2b7f57c",
   "metadata": {
    "tags": []
   },
   "outputs": [],
   "source": [
    "def AOP_DOP_process_save_and_figure(image_pola,save=True,sat_level=65500):\n",
    "    verbose_text=False\n",
    "    \n",
    "    eph=ephemeride.ephemerides() #Initialization of the function used for calculating ephemerides.\n",
    "    expo=image_pola[1] \n",
    "    chainetps=image_pola[2]\n",
    "    type_image=image_pola[3]\n",
    "    (Psi_sun,Theta_sun)=eph.getAltAzSoleil(chainetps) # Calculation of the ephemeris at the time of capture.\n",
    "    (Ha_sun,Dec_sun)=eph.getHADecSoleil(chainetps)\n",
    "    \n",
    "    chaineheure=chainetps.split(\"T\")[1].split(\"-\")\n",
    "    chainedate=chainetps.split('T')[0]\n",
    "    heure_image=ephemeride.Time(chainetps.split(\"T\")[0]+'T'+chaineheure[0]+\":\"+chaineheure[1]+\":\"+chaineheure[2])\n",
    "    image=image_pola[0].astype('int64')\n",
    "    \n",
    "    chemin_enreg=out_path+chainedate+'/'\n",
    "    if save:\n",
    "        if not os.path.exists(chemin_enreg):\n",
    "            try:\n",
    "                os.mkdir(chemin_enreg)\n",
    "            except Exception as e:print(e)\n",
    "        #if os.path.exists(chemin_enreg+chainetps):return [None]\n",
    "        if not os.path.exists(chemin_enreg+chainetps):\n",
    "            try:\n",
    "                os.mkdir(chemin_enreg+chainetps)\n",
    "            except Exception as e:print(e)\n",
    "        np.save(chemin_enreg+chainetps+\"/image.npy\",image)\n",
    "\n",
    "    degre_sat=np.count_nonzero(image>=65520)/(image.shape[0]*image.shape[1])\n",
    "\n",
    "    # Here we want to calculate the \"average angle\" seen at the center of a macropixel. \n",
    "    # We know the orientations of each sub-pixel (theta, alpha). However, a simple average \n",
    "    # does not work for finding the \"central\" orientation. For instance, the \"average\" between \n",
    "    # two 2D vectors with angles 45° and 315° would \"actually\" be 0°, but the arithmetic mean of\n",
    "    # the two angles is 180°. Here, we encounter the same problem when transitioning from -π to π \n",
    "    # with numerical artifacts. To avoid this, we convert back to Cartesian coordinates and use atan2.    \n",
    "            \n",
    "    if verbose_text:print(\"Creation figure ...\")\n",
    "    fig,(ax0,ax2,ax3)=plt.subplots(3,4,figsize=(24,20),gridspec_kw={'width_ratios':[1.2,1.2,1.2,1.2]})\n",
    "    plt.suptitle(\"Image : \"+chainetps[:-1]+ \" ~ Expo : \"+str(expo)+\" µs\")\n",
    "    \n",
    "    \n",
    "    if verbose_text:print(\"plot rgb image...\")\n",
    "    a=rebin(image,(image.shape[0]//2,image.shape[1]//2))\n",
    "    imageRGB=(cv2.merge((a[0::2,1::2],0.5*(a[0::2,1::2]+a[1::2,0::2]),a[1::2,1::2]))/65520.0*255).astype('uint8')\n",
    "\n",
    "    x, y = np.meshgrid(np.arange(imageRGB.shape[1] + 1), np.arange(imageRGB.shape[0] + 1))\n",
    "\n",
    "    # Plot RGB image using pcolormesh\n",
    "    pc = ax0[0].pcolormesh(x, y, imageRGB, edgecolors='k', linewidths=0.0)\n",
    "    cbarrgb=fig.colorbar(pc,ax=ax0[1],shrink=0.9)\n",
    "    ax0[0].set_aspect('equal')\n",
    "    #ax2[0].imshow(cv2.cvtColor((imageRGB.astype('float32')/255.0).astype('uint8'), cv2.COLOR_BGR2RGB))\n",
    "    #ax2[0].grid(False)        \n",
    "    d=np.pi/180\n",
    "    r = R.from_matrix(rot_mat)\n",
    "\n",
    "            \n",
    "    Sun_rot_cart=r.apply(np.array(sph2cart2(Psi_sun*d,Theta_sun*d)).T).T\n",
    "    Sun_rot=np.array(cart2sph2(Sun_rot_cart[0],Sun_rot_cart[1],Sun_rot_cart[2])).T\n",
    "            #Sun_rot[0] -> Psi, (az)\n",
    "            #Sun_rot[1] -> Theta, zenith = 0 (anti-elev)\n",
    "    if verbose_text:print(\"Psi_sun : \"+str(Psi_sun*degrees)+\" Theta_sun : \"+str(Theta_sun*degrees))\n",
    "    if verbose_text:print(\"Sun_rot[0] : \"+str(Sun_rot[0])+\" Sun_rot[1] : \"+str(Sun_rot[1]))\n",
    "    x_sol,y_sol=np.array([(x_0+f*np.sin(Sun_rot[0])*(Sun_rot[1]))/4]),np.array([(y_0-f*np.cos(Sun_rot[0])*(Sun_rot[1]))/4])\n",
    " \n",
    "            \n",
    "    ax0[0].set_title(\"RGB Image\")                 \n",
    "\n",
    "            \n",
    "    if verbose_text:print(\"plot ephemeride...\")\n",
    "    eph.traceAzELSoleil(chainetps=chainetps,Ax=ax0[1])\n",
    "\n",
    "    (Psi_sun,Theta_sun)=eph.getAltAzSoleil(chainetps)\n",
    "                    \n",
    "\n",
    "    for couleur in range(4):\n",
    "        # Processing AOP and DOP for each color and saving it, and plot it\n",
    "\n",
    "        #put a Nan Value on zones where at least one pixels of macropixel was saturated\n",
    "        sat_zone=((image[((couleur//2)*2+0//2)::4,((couleur%2)*2+0%2)::4]>sat_level) | \n",
    "                  (image[((couleur//2)*2+3//2)::4,((couleur%2)*2+3%2)::4]>sat_level) |\n",
    "                  (image[((couleur//2)*2+1//2)::4,((couleur%2)*2+1%2)::4]>sat_level) |\n",
    "                  (image[((couleur//2)*2+2//2)::4,((couleur%2)*2+2%2)::4]>sat_level))\n",
    "\n",
    "        \n",
    "        #AOP values calculation\n",
    "        Q=image[((couleur//2)*2+0//2)::4,((couleur%2)*2+0%2)::4]-image[((couleur//2)*2+3//2)::4,((couleur%2)*2+3%2)::4] # I0-I90\n",
    "        U=image[((couleur//2)*2+1//2)::4,((couleur%2)*2+1%2)::4]-image[((couleur//2)*2+2//2)::4,((couleur%2)*2+2%2)::4] # I45-I135\n",
    "        I=0.5*(image[((couleur//2)*2+0//2)::4,((couleur%2)*2+0%2)::4]+image[((couleur//2)*2+3//2)::4,((couleur%2)*2+3%2)::4]+image[((couleur//2)*2+1//2)::4,((couleur%2)*2+1%2)::4]+image[((couleur//2)*2+2//2)::4,((couleur%2)*2+2%2)::4]) # (I0 + I90 + I45 + I135)/2\n",
    "        ksi=(0.5*np.arctan2(U,Q)*180/np.pi)\n",
    "        ksi[theta_mini>limit_Zenith_Angle]=np.nan    \n",
    "        ksi[sat_zone]=np.nan\n",
    "        #getting right subfigure to plot it\n",
    "        if couleur==0 or couleur==1 :\n",
    "            ax_coul_aop=[ax2,ax3][couleur][0]\n",
    "            ax_coul_dop=[ax2,ax3][couleur][1]\n",
    "            if verbose_text:print(couleur)\n",
    "        if couleur==2 or couleur==3 :\n",
    "            ax_coul_aop=[ax2,ax3][couleur-2][2]\n",
    "            ax_coul_dop=[ax2,ax3][couleur-2][3]\n",
    "            if verbose_text:print(couleur)\n",
    "        #ax_coul\n",
    "        \n",
    "        #save AOP value\n",
    "        if save:np.save(chemin_enreg+chainetps+\"/AOP_\"+str([\"R\",\"Gr\",\"Gb\",\"B\"][couleur])+\".npy\",ksi)\n",
    "            \n",
    "        \n",
    "        #Plot it\n",
    "        if verbose_text:print(\"plot aop image...\")\n",
    "        cmap_hsv = plt.cm.hsv  # You can use any colormap you prefer\n",
    "        cmap_hsv.set_bad('black', alpha=1.0)\n",
    "        pcm1=ax_coul_aop.pcolormesh(ksi,cmap=cmap_hsv,vmin=-90.0, vmax=90.0)\n",
    "        ax_coul_aop.set_title(\"Measured AOP\"+\" (color : \"+str([\"R\",\"Gr\",\"Gb\",\"B\"][couleur])+\" )\")#chemin.split('ManipeResultats')[1]+\" - AOP - Canal \"+str([\"R\",\"Gr\",\"Gb\",\"B\"][couleur]))\n",
    "        cbar=fig.colorbar(pcm1,ax=ax_coul_aop,shrink=0.9)\n",
    "        cbar.set_ticks([-90,-67.5,-45,-22.5,0,22.5,45,67.5,90])\n",
    "        cbar.set_label(\"Angle of Polarization (°)\")\n",
    "        #ax_coul_aop.invert_yaxis()\n",
    "\n",
    "        if verbose_text:print(\"plot dop image...\")\n",
    "        # DOP values calculation\n",
    "        DOP_dofp=np.hypot(Q,U)/I \n",
    "        DOP_dofp[theta_mini>limit_Zenith_Angle]=np.nan\n",
    "        DOP_dofp[sat_zone]=np.nan\n",
    "        \n",
    "        #save it\n",
    "        if save:np.save(chemin_enreg+chainetps+\"/DOP_\"+str([\"R\",\"Gr\",\"Gb\",\"B\"][couleur])+\".npy\",DOP_dofp)\n",
    "        \n",
    "        #plot it\n",
    "        # Create a custom colormap with black for NaN values\n",
    "        cmap_jet = plt.cm.jet  # You can use any colormap you prefer\n",
    "        cmap_jet.set_bad('black', alpha=1.0)\n",
    "        pcm3=ax_coul_dop.pcolormesh(np.minimum(DOP_dofp,1),cmap=cmap_jet,vmin=0.0, vmax=1.0)\n",
    "        ax_coul_dop.set_title(\"Measured DOP\"+\" (color : \"+str([\"R\",\"Gr\",\"Gb\",\"B\"][couleur])+\" )\")#chemin.split('ManipeResultats')[1]+\" - DOP - Canal \"+str([\"R\",\"Gr\",\"Gb\",\"B\"][couleur]))\n",
    "        cbardop=fig.colorbar(pcm3,ax=ax_coul_dop,shrink=0.9)\n",
    "        pcm3.set_clim(0, 1.0)#cbardop.vmin=0#cbardop.vmax=1\n",
    "        cbardop.set_ticks([0,0.2,0.4,0.6,0.8,1])\n",
    "        cbardop.set_label(\"Degree of Polarization\")\n",
    "          \n",
    "        ax_coul_aop.axis('scaled')\n",
    "        ax_coul_dop.axis('scaled')\n",
    "\n",
    "            \n",
    "    if verbose_text:print(\"plot simul rayleigh...\")\n",
    "    #Show rayleigh simulation and save its values\n",
    "    #AOP_s,DOP_s=rayleigh.simul_rayleigh_subplot((Psi_sun),Theta_sun,ax_aop=ax0[2],ax_dop=ax0[3],fig=fig,Psi=alpha,Theta=theta,rot_mat=rot_mat)#orientation_pixels_ENU=orientation_ENU)\n",
    "    AOP_s,DOP_s=rayleigh.simul_rayleigh_subplot((Psi_sun),Theta_sun,ax_aop=ax0[2],ax_dop=ax0[3],fig=fig,Psi=alpha,\n",
    "Theta=theta,rot_mat=rot_mat,limit_Zenith_Angle=limit_Zenith_Angle,out_zone=np.nan)#orientation_pixels_ENU=orientation_ENU)\n",
    "\n",
    "\n",
    "          \n",
    "    plt.subplots_adjust(left=0.05,right=0.95,top=0.90,bottom=0.05,wspace=0.2,hspace=0.2)\n",
    "\n",
    "    ax0[2].axis('scaled')\n",
    "    ax0[3].axis('scaled')\n",
    "    cbarrgb.remove()\n",
    "\n",
    "    #save all data values in a folder        \n",
    "    if save:np.save(chemin_enreg+chainetps+\"/AOP_s.npy\",AOP_s)\n",
    "    if save:np.save(chemin_enreg+chainetps+\"/DOP_s.npy\",DOP_s)\n",
    "    if save:np.save(chemin_enreg+chainetps+\"/expo.npy\",expo)\n",
    "            \n",
    "    if save:np.savetxt(chemin_enreg+chainetps+\"/time.npy\",list(map(int,chainetps[:-1].split('T')[0].split('-')+chainetps[:-1].split('T')[1].split('-'))),delimiter=',',fmt=\"%d\") # ['YYYY', 'MM', 'DD', 'HH', 'mm', 'ss/']\n",
    "    if verbose_text:print(\"Sauv fig...\")\n",
    "    if save:plt.savefig(chemin_enreg+chainetps+\"/fig.png\")\n",
    "    if not save:plt.show()\n",
    "    plt.close()\n",
    "  \n",
    "    return [chainedate+'/'+chainetps,chainetps,chaineheure[0],chaineheure[1],chaineheure[2],chainedate,Psi_sun,Theta_sun,Ha_sun,\n",
    "                        Dec_sun,expo,type_image]\n"
   ]
  },
  {
   "cell_type": "code",
   "execution_count": null,
   "id": "ac8ee0f6-6cd4-4753-abdb-4bf415633412",
   "metadata": {
    "tags": []
   },
   "outputs": [],
   "source": [
    "elt_liste=AOP_DOP_process_save_and_figure(image_pola,save=False) #show an example"
   ]
  },
  {
   "cell_type": "markdown",
   "id": "9d128a7c-98ea-4373-a06d-429839e1b4f8",
   "metadata": {
    "tags": []
   },
   "source": [
    "### Processing for each day of database and saving into new \"processed\" database"
   ]
  },
  {
   "cell_type": "code",
   "execution_count": null,
   "id": "4c2acddd-c6c1-4165-903a-7473ac1c3780",
   "metadata": {
    "tags": []
   },
   "outputs": [],
   "source": [
    "for i in range(len(dirs_files)):\n",
    "    print(i, end=\" \")\n",
    "    print(dirs_files[i])\n",
    "    images_pola=np.load(in_path+dirs_files[i],allow_pickle=True)\n",
    "    tic=time.time()\n",
    "#    liste_jour=sorted_filenames_dict[key]\n",
    "    #partial_process_directory_1 = partial(process_directory_1, RGB_HSV_conv=True,image_size=50)\n",
    "    num_processes=32*2\n",
    "    results = (p_map(AOP_DOP_process_save_and_figure ,images_pola,num_cpus=num_processes,tqdm=tqdm))\n",
    "#results = np.array([sublist for sublists in results for sublist in sublists if sublist is not None])\n",
    "#np.save(out_path+key+\"_raw.npy\",results)\n",
    "    print(\"Elapsed Time : \",time.time()-tic)\n",
    "    np.array(results).shape\n",
    "    \n",
    "    #Store datas in csv table\n",
    "    \n",
    "    # Sample data for each column\n",
    "\n",
    "\n",
    "    # Specify the file name\n",
    "    file_name = out_path+dirs_files[i].split(\"_\")[0]+'.csv'\n",
    "\n",
    "    # Write data to the CSV file\n",
    "    with open(file_name, mode='w', newline='') as csv_file:\n",
    "        writer = csv.writer(csv_file)\n",
    "\n",
    "        # Write header row\n",
    "        writer.writerow(['Image_folder_path', 'Timestamp', 'Hour_Local','Minute_Local','Second_Local', \n",
    "                         'Date', 'Sun_azimuth', 'Sun_zenith_angle', 'Sun_hour_angle', 'Sun_declination', \n",
    "                         'Camera_exposure_time','Image_type'])\n",
    "\n",
    "        # Write data rows\n",
    "        for row in results:\n",
    "            writer.writerow(row)\n",
    "\n",
    "    print(f\"Data saved to {file_name}\")\n",
    "    print(\" \")\n",
    "    print(\" \")\n",
    "    print(\" \")    "
   ]
  },
  {
   "cell_type": "code",
   "execution_count": null,
   "id": "498969d6-2d7c-4d96-9c20-9c66f777b388",
   "metadata": {
    "tags": []
   },
   "outputs": [],
   "source": []
  },
  {
   "cell_type": "code",
   "execution_count": null,
   "id": "1b8a53b9-5573-4cff-847e-9010dbd9683b",
   "metadata": {
    "tags": []
   },
   "outputs": [],
   "source": [
    "\n"
   ]
  },
  {
   "cell_type": "code",
   "execution_count": null,
   "id": "398da3c6-3993-4788-b942-c9e5eecdba46",
   "metadata": {
    "tags": []
   },
   "outputs": [],
   "source": []
  },
  {
   "cell_type": "markdown",
   "id": "1d392d1d-df82-42f2-86e0-ed898f5664a8",
   "metadata": {
    "tags": []
   },
   "source": [
    "### Merge all .csv daily files in one"
   ]
  },
  {
   "cell_type": "code",
   "execution_count": null,
   "id": "f5b16036-ac8a-41e4-aa7a-e11b87213030",
   "metadata": {
    "tags": []
   },
   "outputs": [],
   "source": [
    "\n",
    "# Input folder containing CSV files\n",
    "#input_folder = 'Polarized_Database/'\n",
    "# Specify the output merged CSV file\n",
    "merged_csv_file = out_path+'all_days.csv'\n",
    "\n",
    "# Initialize a list to store merged data and header\n",
    "merged_data = []\n",
    "merged_header = None  # Initialize the header\n",
    "\n",
    "# Iterate through all files in the input folder\n",
    "for filename in os.listdir(out_path):\n",
    "    \n",
    "    if filename.endswith('.csv'):\n",
    "        if filename.endswith('all_days.csv'):continue\n",
    "        print(filename)\n",
    "        csv_file_path = os.path.join(out_path, filename)\n",
    "        with open(csv_file_path, 'r', newline='') as file:\n",
    "            reader = csv.reader(file)\n",
    "            header = next(reader)  # Get the header (first row)\n",
    "            \n",
    "            # If merged_header is None, use the first file's header\n",
    "            if merged_header is None:\n",
    "                merged_header = header\n",
    "            else:\n",
    "                # Check if the header matches the merged_header\n",
    "                if header != merged_header:\n",
    "                    raise ValueError(f\"CSV file {filename} has a different header structure.\")\n",
    "            \n",
    "            # Read data rows and append to merged_data\n",
    "            for row in reader:\n",
    "                merged_data.append(row)\n",
    "                print(row)\n",
    "\n",
    "\n",
    "\n",
    "# Write the merged data to the output CSV file\n",
    "with open(merged_csv_file, 'w', newline='') as file:\n",
    "    writer = csv.writer(file)\n",
    "    writer.writerow(merged_header)  # Write merged header row\n",
    "    writer.writerows(merged_data)    # Write merged data rows\n"
   ]
  },
  {
   "cell_type": "code",
   "execution_count": null,
   "id": "8d656340-7c22-4245-8688-0b989b9d7dbd",
   "metadata": {
    "tags": []
   },
   "outputs": [],
   "source": []
  },
  {
   "cell_type": "code",
   "execution_count": null,
   "id": "e3e1bea6-de76-44a7-bcac-393d25276b8d",
   "metadata": {
    "tags": []
   },
   "outputs": [],
   "source": [
    "#utc explication"
   ]
  },
  {
   "cell_type": "markdown",
   "id": "51fd3542-bc5d-417f-921d-246362e79b79",
   "metadata": {
    "tags": []
   },
   "source": [
    "# Fin"
   ]
  },
  {
   "cell_type": "code",
   "execution_count": null,
   "id": "91e8df12-2f73-4d84-806d-3d880833348c",
   "metadata": {
    "tags": []
   },
   "outputs": [],
   "source": [
    "1/0"
   ]
  },
  {
   "cell_type": "code",
   "execution_count": null,
   "id": "5e6b9894-92e9-487b-9f06-078f4b35eec0",
   "metadata": {
    "tags": []
   },
   "outputs": [],
   "source": [
    "image=image_pola[0]"
   ]
  },
  {
   "cell_type": "code",
   "execution_count": null,
   "id": "9b36d02f-533b-41ad-93a1-1bed63e17478",
   "metadata": {
    "tags": []
   },
   "outputs": [],
   "source": [
    "import matplotlib.pyplot as plt\n",
    "import numpy as np\n",
    "\n",
    "import matplotlib.colors as mcolors\n",
    "from matplotlib.colors import LogNorm\n",
    "\n",
    "image_max=65520\n",
    "image_thres=65000\n",
    "\n",
    "\n",
    "\n",
    "# Créer une color map personnalisée\n",
    "cmap = mcolors.LinearSegmentedColormap.from_list('custom_cmap', [(0, 0, 0), (1, 1, 1)], N=65520)\n",
    "# Créer une figure et un axe\n",
    "fig, ax = plt.subplots()\n",
    "\n",
    "# Créer une image avec des valeurs aléatoires entre 0 et 65519\n",
    "#image = np.random.randint(0, 65520, size=(100, 100), dtype=np.uint16)\n",
    "\n",
    "# Afficher l'image avec la color map personnalisée\n",
    "im = ax.imshow(image, cmap=cmap,norm=LogNorm())\n",
    "\n",
    "\n",
    "\n",
    "# Set the color of the maximum value to red\n",
    "im.set_clim(vmin=160, vmax=65000)\n",
    "im.cmap.set_over('red')\n",
    "\n",
    "# Ajouter une colorbar\n",
    "cbar = plt.colorbar(im, ax=ax)\n",
    "# Afficher la figure\n",
    "plt.show()"
   ]
  },
  {
   "cell_type": "code",
   "execution_count": null,
   "id": "6f48769c-ece2-48a5-aedd-1d672a900d06",
   "metadata": {
    "tags": []
   },
   "outputs": [],
   "source": [
    "cmap"
   ]
  },
  {
   "cell_type": "code",
   "execution_count": null,
   "id": "55f89fa6-7d6c-42a0-bc56-794b7b1c0715",
   "metadata": {
    "tags": []
   },
   "outputs": [],
   "source": []
  },
  {
   "cell_type": "code",
   "execution_count": null,
   "id": "6f807cd7-9262-46fc-b54f-af2531c1b397",
   "metadata": {
    "tags": []
   },
   "outputs": [],
   "source": []
  },
  {
   "cell_type": "code",
   "execution_count": null,
   "id": "1e680e63-daf7-4884-a464-8ae8414c366b",
   "metadata": {
    "tags": []
   },
   "outputs": [],
   "source": []
  },
  {
   "cell_type": "code",
   "execution_count": null,
   "id": "28081d60-8af3-4162-80fd-c61ca4a1f588",
   "metadata": {
    "tags": []
   },
   "outputs": [],
   "source": []
  },
  {
   "cell_type": "code",
   "execution_count": null,
   "id": "5635b617-5a1d-4002-8bc3-4100166d4335",
   "metadata": {
    "tags": []
   },
   "outputs": [],
   "source": []
  },
  {
   "cell_type": "code",
   "execution_count": null,
   "id": "6c283dff-6f56-4a71-bd7e-bd9277e26f29",
   "metadata": {
    "tags": []
   },
   "outputs": [],
   "source": []
  },
  {
   "cell_type": "code",
   "execution_count": null,
   "id": "4be5c215-7ad5-4e9e-8fe4-398c9679bcad",
   "metadata": {
    "tags": []
   },
   "outputs": [],
   "source": []
  },
  {
   "cell_type": "code",
   "execution_count": null,
   "id": "6d6ccb46-0513-4e7b-8dfe-4b2373820fcb",
   "metadata": {
    "tags": []
   },
   "outputs": [],
   "source": [
    "def enreg_image_simple_color_raw_json(image_pola):    \n",
    "    eph=ephemeride.ephemerides() #Initialisation de la classe servant à calculer les ephemerides\n",
    "    expo=image_pola[1] \n",
    "    chainetps=image_pola[2]\n",
    "    \n",
    "    (Psi_sun,Theta_sun)=eph.getAltAzSoleil(chainetps) #Calcul de l'ephemeride au moment de la prise de vue\n",
    "    (Ha_sun,Dec_sun)=eph.getHADecSoleil(chainetps) #Calcul de l'ephemeride au moment de la prise de vue\n",
    "    \n",
    "    chaineheure=chainetps.split(\"T\")[1].split(\"-\")\n",
    "    chainedate=chainetps.split('T')[0]\n",
    "    heure_image=ephemeride.Time(chainetps.split(\"T\")[0]+'T'+chaineheure[0]+\":\"+chaineheure[1]+\":\"+chaineheure[2])\n",
    "    image=image_pola[0].astype('int64')\n",
    "\n",
    "    degre_sat=np.count_nonzero(image>=65520)/(image.shape[0]*image.shape[1])\n",
    "\n",
    "    #ici on veut faire \"l'angle moyen\" vu au centre d'un macropixel. On connait les orientations de chacun des sous-pixels (theta, alpha) \n",
    "    # mais pour faire l'orientation \"centrale\" une moyenne bête ne fonctionne pas. Par exemple, la \"moyenne\" entre deux vecteurs 2D d'angles \n",
    "    #45° et 315° serait \"en vrai\" de 0° mais la moyenne arithmetique des deux angles fait 180°. Ici on a le même problème lors du passage de \n",
    "    #-pi à pi avec des artefacts numeriques. Pour eviter cela, on repasse en coordonnées cartesiennes et on utilise atan2.\n",
    "\n",
    "            \n",
    "    print(\"Creation figure ...\")\n",
    "    fig,(ax0,ax2,ax3)=plt.subplots(3,4,figsize=(20,16),gridspec_kw={'width_ratios':[1.2,1.2,1.2,1.2]})\n",
    "    #fig,(ax1,ax2)=plt.subplots(2,3,figsize=(20,12),gridspec_kw={'height_ratios':[1.2,1.2]})\n",
    "\n",
    "    #plt.suptitle(\"Image : \"+chainetps[:-1]+ \" ~ Color channel :  \"+str([\"R\",\"Gr\",\"Gb\",\"B\"][couleur])+\" ~ Expo : \"+str(expo)+\" µs\")\n",
    "    plt.suptitle(\"Image : \"+chainetps[:-1]+ \" ~ Expo : \"+str(expo)+\" µs\")\n",
    "    \n",
    "    \n",
    "    print(\"plot rgb image...\")\n",
    "    a=rebin(image,(image.shape[0]//2,image.shape[1]//2))\n",
    "    #imageRGB=cv2.merge((a[1::2,1::2],a[0::2,1::2],a[0::2,0::2]))\n",
    "    imageRGB=(cv2.merge((a[0::2,1::2],0.5*(a[0::2,1::2]+a[1::2,0::2]),a[1::2,1::2]))/65520.0*255).astype('uint8')\n",
    "\n",
    "    x, y = np.meshgrid(np.arange(imageRGB.shape[1] + 1), np.arange(imageRGB.shape[0] + 1))\n",
    "\n",
    "    # Plot RGB image using pcolormesh\n",
    "    pc = ax0[0].pcolormesh(x, y, imageRGB, edgecolors='k', linewidths=0.0)\n",
    "    cbarrgb=fig.colorbar(pc,ax=ax0[1],shrink=0.9)\n",
    "    ax0[0].set_aspect('equal')\n",
    "    #ax2[0].imshow(cv2.cvtColor((imageRGB.astype('float32')/255.0).astype('uint8'), cv2.COLOR_BGR2RGB))\n",
    "    #ax2[0].grid(False)        \n",
    "    d=np.pi/180\n",
    "    r = R.from_matrix(rot_mat)\n",
    "            #r = R.from_matrix(np.identity(3))\n",
    "\n",
    "            \n",
    "    Sun_rot_cart=r.apply(np.array(sph2cart2(Psi_sun*d,Theta_sun*d)).T).T\n",
    "    Sun_rot=np.array(cart2sph2(Sun_rot_cart[0],Sun_rot_cart[1],Sun_rot_cart[2])).T\n",
    "            #Sun_rot[0] -> Psi, (az)\n",
    "            #Sun_rot[1] -> Theta, zenith = 0 (anti-elev)\n",
    "    print(\"Psi_sun : \"+str(Psi_sun*degrees)+\" Theta_sun : \"+str(Theta_sun*degrees))\n",
    "    print(\"Sun_rot[0] : \"+str(Sun_rot[0])+\" Sun_rot[1] : \"+str(Sun_rot[1]))\n",
    "    x_sol,y_sol=np.array([(x_0+f*np.sin(Sun_rot[0])*(Sun_rot[1]))/4]),np.array([(y_0-f*np.cos(Sun_rot[0])*(Sun_rot[1]))/4])\n",
    " \n",
    "            \n",
    "    ax0[0].set_title(\"RGB Image\")                 \n",
    "\n",
    "            \n",
    "    print(\"plot ephemeride...\")\n",
    "    #eph=ephemerides()\n",
    "    eph.traceAzELSoleil(chainetps=chainetps,Ax=ax0[1])\n",
    "            #eph.tracePolarSoleil(chainetps=chemin.split('ManipeResultats/')[1],Ax=ax1[0])\n",
    "\n",
    "    (Psi_sun,Theta_sun)=eph.getAltAzSoleil(chainetps)\n",
    "    #degrees=np.pi/180\n",
    "                    \n",
    "\n",
    "        \n",
    "        \n",
    "    for couleur in range(4):\n",
    "        \n",
    "        theta_0=theta[((couleur//2)*2+0//2)::4,((couleur%2)*2+0%2)::4]\n",
    "        theta_90=theta[((couleur//2)*2+3//2)::4,((couleur%2)*2+3%2)::4]\n",
    "        theta_45=theta[((couleur//2)*2+1//2)::4,((couleur%2)*2+1%2)::4]\n",
    "        theta_135=theta[((couleur//2)*2+2//2)::4,((couleur%2)*2+2%2)::4]\n",
    "        theta_mini=average_angle(average_angle(theta_0,theta_90),average_angle(theta_45,theta_135))\n",
    "\n",
    "        alpha_0=alpha[((couleur//2)*2+0//2)::4,((couleur%2)*2+0%2)::4]\n",
    "        alpha_90=alpha[((couleur//2)*2+3//2)::4,((couleur%2)*2+3%2)::4]\n",
    "        alpha_45=alpha[((couleur//2)*2+1//2)::4,((couleur%2)*2+1%2)::4]\n",
    "        alpha_135=alpha[((couleur//2)*2+2//2)::4,((couleur%2)*2+2%2)::4]\n",
    "        alpha_mini=average_angle(average_angle(alpha_0,alpha_90),average_angle(alpha_45,alpha_135))\n",
    "\n",
    "\n",
    "\n",
    "        Q=image[((couleur//2)*2+0//2)::4,((couleur%2)*2+0%2)::4]-image[((couleur//2)*2+3//2)::4,((couleur%2)*2+3%2)::4] # I0-I90\n",
    "        U=image[((couleur//2)*2+1//2)::4,((couleur%2)*2+1%2)::4]-image[((couleur//2)*2+2//2)::4,((couleur%2)*2+2%2)::4] # I45-I135\n",
    "        I=0.5*(image[((couleur//2)*2+0//2)::4,((couleur%2)*2+0%2)::4]+image[((couleur//2)*2+3//2)::4,((couleur%2)*2+3%2)::4]+image[((couleur//2)*2+1//2)::4,((couleur%2)*2+1%2)::4]+image[((couleur//2)*2+2//2)::4,((couleur%2)*2+2%2)::4]) # (I0 + I90 + I45 + I135)/2\n",
    "        ksi=(0.5*np.arctan2(U,Q)*180/np.pi)\n",
    "        ksi[theta_mini>np.pi*0.45]=0        \n",
    "        \n",
    "        if couleur==0 or couleur==1 :\n",
    "            ax_coul_aop=[ax2,ax3][couleur][0]\n",
    "            ax_coul_dop=[ax2,ax3][couleur][1]\n",
    "            print(couleur)\n",
    "        if couleur==2 or couleur==3 :\n",
    "            ax_coul_aop=[ax2,ax3][couleur-2][2]\n",
    "            ax_coul_dop=[ax2,ax3][couleur-2][3]\n",
    "            print(couleur)\n",
    "        #ax_coul\n",
    "        \n",
    "        \n",
    "        print(\"plot aop image...\")\n",
    "        pcm1=ax_coul_aop.pcolormesh(ksi,cmap='hsv',vmin=-90.0, vmax=90.0)\n",
    "        ax_coul_aop.set_title(\"Measured AOP\"+\" (color : \"+str([\"R\",\"Gr\",\"Gb\",\"B\"][couleur])+\" )\")#chemin.split('ManipeResultats')[1]+\" - AOP - Canal \"+str([\"R\",\"Gr\",\"Gb\",\"B\"][couleur]))\n",
    "        cbar=fig.colorbar(pcm1,ax=ax_coul_aop,shrink=0.9)\n",
    "        cbar.set_ticks([-90,-67.5,-45,-22.5,0,22.5,45,67.5,90])\n",
    "        cbar.set_label(\"Angle of Polarization (°)\")\n",
    "        #ax_coul_aop.invert_yaxis()\n",
    "\n",
    "        print(\"plot dop image...\")\n",
    "        DOP_dofp=np.hypot(Q,U)/I \n",
    "        DOP_dofp[theta_mini>np.pi*.45]=0\n",
    "        pcm3=ax_coul_dop.pcolormesh(np.minimum(DOP_dofp,1),cmap='jet')\n",
    "        ax_coul_dop.set_title(\"Measured DOP\"+\" (color : \"+str([\"R\",\"Gr\",\"Gb\",\"B\"][couleur])+\" )\")#chemin.split('ManipeResultats')[1]+\" - DOP - Canal \"+str([\"R\",\"Gr\",\"Gb\",\"B\"][couleur]))\n",
    "        cbardop=fig.colorbar(pcm3,ax=ax_coul_dop,shrink=0.9)\n",
    "        pcm3.set_clim(0, 1.0)#cbardop.vmin=0#cbardop.vmax=1\n",
    "        cbardop.set_ticks([0,0.2,0.4,0.6,0.8,1])\n",
    "        cbardop.set_label(\"Degree of Polarization\")\n",
    "        #ax_coul_aop.invert_yaxis()\n",
    "        #ax_coul_dop.invert_yaxis()\n",
    "        #ax_coul[0].invert_yaxis()            \n",
    "        ax_coul_aop.axis('scaled')\n",
    "        ax_coul_dop.axis('scaled')\n",
    "\n",
    "            \n",
    "    print(\"plot simul rayleigh...\")\n",
    "    \n",
    "    AOP_s,DOP_s=rayleigh.simul_rayleigh_subplot((Psi_sun),Theta_sun,ax_aop=ax0[2],ax_dop=ax0[3],fig=fig,alpha=alpha,theta=theta,rot_mat=rot_mat)#orientation_pixels_ENU=orientation_ENU)\n",
    "\n",
    "\n",
    "          \n",
    "    plt.subplots_adjust(left=0.05,right=0.95,top=0.90,bottom=0.05,wspace=0.2,hspace=0.2)\n",
    "            #time.sleep(3)\n",
    "\n",
    "    #ax2[2].axis('scaled')\n",
    "    ax0[2].axis('scaled')\n",
    "    ax0[3].axis('scaled')\n",
    "    cbarrgb.remove()\n",
    "    return (U,Q,I,ksi,DOP_dofp,AOP_s,DOP_s)\n",
    "U,Q,I,A,D,As,Ds=enreg_image_simple_color_raw_json(image_pola)"
   ]
  },
  {
   "cell_type": "code",
   "execution_count": null,
   "id": "43fdc4a8-ede2-4643-afed-3881bfd31440",
   "metadata": {
    "tags": []
   },
   "outputs": [],
   "source": []
  },
  {
   "cell_type": "code",
   "execution_count": null,
   "id": "b8f3ff5e-b15c-4095-81d5-f77c9e497727",
   "metadata": {
    "tags": []
   },
   "outputs": [],
   "source": []
  },
  {
   "cell_type": "code",
   "execution_count": null,
   "id": "c9d70402-7011-464f-a5c9-42f59dcbb343",
   "metadata": {
    "tags": []
   },
   "outputs": [],
   "source": []
  },
  {
   "cell_type": "code",
   "execution_count": null,
   "id": "1679bc19-118b-4fa2-ac41-63006b9742df",
   "metadata": {
    "tags": []
   },
   "outputs": [],
   "source": []
  },
  {
   "cell_type": "code",
   "execution_count": null,
   "id": "25b8f9a2-9628-4ee2-964b-890d2eb5bde2",
   "metadata": {
    "tags": []
   },
   "outputs": [],
   "source": []
  },
  {
   "cell_type": "code",
   "execution_count": null,
   "id": "750ec0ca-964c-4363-bda6-36654475dacf",
   "metadata": {
    "tags": []
   },
   "outputs": [],
   "source": [
    "def enreg_image_simple_color_raw_json(image_pola):    \n",
    "    eph=ephemeride.ephemerides() #Initialisation de la classe servant à calculer les ephemerides\n",
    "    expo=image_pola[1] \n",
    "    chainetps=image_pola[2]\n",
    "    \n",
    "    (Psi_sun,Theta_sun)=eph.getAltAzSoleil(chainetps) #Calcul de l'ephemeride au moment de la prise de vue\n",
    "    (Ha_sun,Dec_sun)=eph.getHADecSoleil(chainetps) #Calcul de l'ephemeride au moment de la prise de vue\n",
    "    \n",
    "    chaineheure=chainetps.split(\"T\")[1].split(\"-\")\n",
    "    chainedate=chainetps.split('T')[0]\n",
    "    heure_image=ephemeride.Time(chainetps.split(\"T\")[0]+'T'+chaineheure[0]+\":\"+chaineheure[1]+\":\"+chaineheure[2])\n",
    "    image=image_pola[0].astype('int64')\n",
    "\n",
    "    degre_sat=np.count_nonzero(image>=65520)/(image.shape[0]*image.shape[1])\n",
    "\n",
    "            #ici on veut faire \"l'angle moyen\" vu au centre d'un macropixel. On connait les orientations de chacun des sous-pixels (theta, alpha) \n",
    "            # mais pour faire l'orientation \"centrale\" une moyenne bête ne fonctionne pas. Par exemple, la \"moyenne\" entre deux vecteurs 2D d'angles \n",
    "            #45° et 315° serait \"en vrai\" de 0° mais la moyenne arithmetique des deux angles fait 180°. Ici on a le même problème lors du passage de \n",
    "            #-pi à pi avec des artefacts numeriques. Pour eviter cela, on repasse en coordonnées cartesiennes et on utilise atan2.\n",
    "\n",
    "            \n",
    "    print(\"Creation figure ...\")\n",
    "    fig,(ax0,ax1)=plt.subplots(2,4,figsize=(6,18),gridspec_kw={'width_ratios':[1.2,1.2]})\n",
    "    #fig,(ax1,ax2)=plt.subplots(2,3,figsize=(20,12),gridspec_kw={'height_ratios':[1.2,1.2]})\n",
    "\n",
    "    #plt.suptitle(\"Image : \"+chainetps[:-1]+ \" ~ Color channel :  \"+str([\"R\",\"Gr\",\"Gb\",\"B\"][couleur])+\" ~ Expo : \"+str(expo)+\" µs\")\n",
    "    plt.suptitle(\"Image : \"+chainetps[:-1]+ \" ~ Expo : \"+str(expo)+\" µs\")\n",
    "    \n",
    "    \n",
    "    print(\"plot rgb image...\")\n",
    "    a=rebin(image,(image.shape[0]//2,image.shape[1]//2))\n",
    "    #imageRGB=cv2.merge((a[1::2,1::2],a[0::2,1::2],a[0::2,0::2]))\n",
    "    imageRGB=(cv2.merge((a[0::2,1::2],0.5*(a[0::2,1::2]+a[1::2,0::2]),a[1::2,1::2]))/65520.0*255).astype('uint8')\n",
    "\n",
    "    x, y = np.meshgrid(np.arange(imageRGB.shape[1] + 1), np.arange(imageRGB.shape[0] + 1))\n",
    "\n",
    "    # Plot RGB image using pcolormesh\n",
    "    pc = ax0[0].pcolormesh(x, y, imageRGB, edgecolors='k', linewidths=0.0)\n",
    "    cbarrgb=fig.colorbar(pc,ax=ax0[1],shrink=0.9)\n",
    "    ax0[0].set_aspect('equal')\n",
    "    #ax2[0].imshow(cv2.cvtColor((imageRGB.astype('float32')/255.0).astype('uint8'), cv2.COLOR_BGR2RGB))\n",
    "    #ax2[0].grid(False)        \n",
    "    d=np.pi/180\n",
    "    r = R.from_matrix(rot_mat)\n",
    "            #r = R.from_matrix(np.identity(3))\n",
    "\n",
    "            \n",
    "    Sun_rot_cart=r.apply(np.array(sph2cart2(Psi_sun*d,Theta_sun*d)).T).T\n",
    "    Sun_rot=np.array(cart2sph2(Sun_rot_cart[0],Sun_rot_cart[1],Sun_rot_cart[2])).T\n",
    "            #Sun_rot[0] -> Psi, (az)\n",
    "            #Sun_rot[1] -> Theta, zenith = 0 (anti-elev)\n",
    "    print(\"Psi_sun : \"+str(Psi_sun*degrees)+\" Theta_sun : \"+str(Theta_sun*degrees))\n",
    "    print(\"Sun_rot[0] : \"+str(Sun_rot[0])+\" Sun_rot[1] : \"+str(Sun_rot[1]))\n",
    "    x_sol,y_sol=np.array([(x_0+f*np.sin(Sun_rot[0])*(Sun_rot[1]))/4]),np.array([(y_0-f*np.cos(Sun_rot[0])*(Sun_rot[1]))/4])\n",
    " \n",
    "            \n",
    "    ax1[0].set_title(\"RGB Image\")                 \n",
    "\n",
    "            \n",
    "    print(\"plot ephemeride...\")\n",
    "    #eph=ephemerides()\n",
    "    eph.traceAzELSoleil(chainetps=chainetps,Ax=ax0[1])\n",
    "            #eph.tracePolarSoleil(chainetps=chemin.split('ManipeResultats/')[1],Ax=ax1[0])\n",
    "\n",
    "    (Psi_sun,Theta_sun)=eph.getAltAzSoleil(chainetps)\n",
    "    #degrees=np.pi/180\n",
    "                    \n",
    "\n",
    "        \n",
    "        \n",
    "    for couleur in range(4):\n",
    "        \n",
    "        theta_0=theta[((couleur//2)*2+0//2)::4,((couleur%2)*2+0%2)::4]\n",
    "        theta_90=theta[((couleur//2)*2+3//2)::4,((couleur%2)*2+3%2)::4]\n",
    "        theta_45=theta[((couleur//2)*2+1//2)::4,((couleur%2)*2+1%2)::4]\n",
    "        theta_135=theta[((couleur//2)*2+2//2)::4,((couleur%2)*2+2%2)::4]\n",
    "        theta_mini=average_angle(average_angle(theta_0,theta_90),average_angle(theta_45,theta_135))\n",
    "\n",
    "        alpha_0=alpha[((couleur//2)*2+0//2)::4,((couleur%2)*2+0%2)::4]\n",
    "        alpha_90=alpha[((couleur//2)*2+3//2)::4,((couleur%2)*2+3%2)::4]\n",
    "        alpha_45=alpha[((couleur//2)*2+1//2)::4,((couleur%2)*2+1%2)::4]\n",
    "        alpha_135=alpha[((couleur//2)*2+2//2)::4,((couleur%2)*2+2%2)::4]\n",
    "        alpha_mini=average_angle(average_angle(alpha_0,alpha_90),average_angle(alpha_45,alpha_135))\n",
    "\n",
    "\n",
    "\n",
    "        Q=image[((couleur//2)*2+0//2)::4,((couleur%2)*2+0%2)::4]-image[((couleur//2)*2+3//2)::4,((couleur%2)*2+3%2)::4] # I0-I90\n",
    "        U=image[((couleur//2)*2+1//2)::4,((couleur%2)*2+1%2)::4]-image[((couleur//2)*2+2//2)::4,((couleur%2)*2+2%2)::4] # I45-I135\n",
    "        I=0.5*(image[((couleur//2)*2+0//2)::4,((couleur%2)*2+0%2)::4]+image[((couleur//2)*2+3//2)::4,((couleur%2)*2+3%2)::4]+image[((couleur//2)*2+1//2)::4,((couleur%2)*2+1%2)::4]+image[((couleur//2)*2+2//2)::4,((couleur%2)*2+2%2)::4]) # (I0 + I90 + I45 + I135)/2\n",
    "        ksi=(0.5*np.arctan2(U,Q)*180/np.pi)\n",
    "        ksi[theta_mini>np.pi*0.45]=0        \n",
    "        \n",
    "        ax_coul=[ax2,ax3,ax4,ax5][couleur]\n",
    "        print(\"plot aop image...\")\n",
    "        pcm1=ax_coul[0].pcolormesh(ksi,cmap='hsv',vmin=-90.0, vmax=90.0)\n",
    "        ax_coul[0].set_title(\"Measured AOP\"+\" (color : \"+str([\"R\",\"Gr\",\"Gb\",\"B\"][couleur])+\" )\")#chemin.split('ManipeResultats')[1]+\" - AOP - Canal \"+str([\"R\",\"Gr\",\"Gb\",\"B\"][couleur]))\n",
    "        cbar=fig.colorbar(pcm1,ax=ax_coul[0],shrink=0.9)\n",
    "        cbar.set_ticks([-90,-67.5,-45,-22.5,0,22.5,45,67.5,90])\n",
    "        cbar.set_label(\"Angle of Polarization (°)\")\n",
    "        ax_coul[0].invert_yaxis()\n",
    "\n",
    "        print(\"plot dop image...\")\n",
    "        DOP_dofp=np.hypot(Q,U)/I \n",
    "        DOP_dofp[theta_mini>np.pi*.45]=0\n",
    "        pcm3=ax_coul[1].pcolormesh(np.minimum(DOP_dofp,1),cmap='jet')\n",
    "        ax_coul[1].set_title(\"Measured DOP\")#chemin.split('ManipeResultats')[1]+\" - DOP - Canal \"+str([\"R\",\"Gr\",\"Gb\",\"B\"][couleur]))\n",
    "        cbardop=fig.colorbar(pcm3,ax=ax_coul[1],shrink=0.9)\n",
    "        pcm3.set_clim(0, 1.0)#cbardop.vmin=0#cbardop.vmax=1\n",
    "        cbardop.set_ticks([0,0.2,0.4,0.6,0.8,1])\n",
    "        cbardop.set_label(\"Degree of Polarization\")\n",
    "        ax_coul[1].invert_yaxis()\n",
    "        ax_coul[1].invert_yaxis()\n",
    "        ax_coul[0].invert_yaxis()            \n",
    "        ax_coul[0].axis('scaled')\n",
    "        ax_coul[1].axis('scaled')\n",
    "\n",
    "            \n",
    "    print(\"plot simul rayleigh...\")\n",
    "    \n",
    "    AOP_s,DOP_s=rayleigh.simul_rayleigh_subplot((Psi_sun),Theta_sun,ax_aop=ax1[0],ax_dop=ax1[1],fig=fig,alpha=alpha,theta=theta,rot_mat=rot_mat)#orientation_pixels_ENU=orientation_ENU)\n",
    "\n",
    "\n",
    "          \n",
    "    plt.subplots_adjust(left=0.05,right=0.95,top=0.90,bottom=0.05,wspace=0.2,hspace=0.2)\n",
    "            #time.sleep(3)\n",
    "\n",
    "    #ax2[2].axis('scaled')\n",
    "    ax1[1].axis('scaled')\n",
    "    ax1[0].axis('scaled')\n",
    "    cbarrgb.remove()\n",
    "    return (U,Q,I,ksi,DOP_dofp)\n",
    "U,Q,I,A,D=enreg_image_simple_color_raw_json(image_pola)"
   ]
  },
  {
   "cell_type": "code",
   "execution_count": null,
   "id": "a97953c8-8fbb-4626-b148-b19f3c218693",
   "metadata": {},
   "outputs": [],
   "source": []
  },
  {
   "cell_type": "code",
   "execution_count": null,
   "id": "24ee1393-5f49-4dbb-9a1d-c16c99e46451",
   "metadata": {},
   "outputs": [],
   "source": []
  },
  {
   "cell_type": "code",
   "execution_count": null,
   "id": "d66eae92-368e-40f0-a44d-57e05b2c2730",
   "metadata": {},
   "outputs": [],
   "source": []
  },
  {
   "cell_type": "code",
   "execution_count": null,
   "id": "df09dff9-cd52-4a25-a0f4-2bcc883d83a6",
   "metadata": {},
   "outputs": [],
   "source": []
  },
  {
   "cell_type": "code",
   "execution_count": null,
   "id": "3aaf4f3f-2f97-4842-a685-aecf302452a8",
   "metadata": {
    "tags": []
   },
   "outputs": [],
   "source": [
    "image=image_pola[0].astype('int64')"
   ]
  },
  {
   "cell_type": "code",
   "execution_count": null,
   "id": "4bcb74bd-3f53-4c41-b606-ecb906ceb4ad",
   "metadata": {
    "tags": []
   },
   "outputs": [],
   "source": [
    "image.max()\n"
   ]
  },
  {
   "cell_type": "code",
   "execution_count": null,
   "id": "bae84116-3c6a-4741-a02e-db022b248576",
   "metadata": {
    "tags": []
   },
   "outputs": [],
   "source": [
    "plt.imshow(image)"
   ]
  },
  {
   "cell_type": "code",
   "execution_count": null,
   "id": "d5d21cac-5b37-4e49-a6e3-caf0d59d9107",
   "metadata": {
    "tags": []
   },
   "outputs": [],
   "source": [
    "plt.figure(figsize=(20,20))\n",
    "# Set a fixed threshold\n",
    "threshold = 1000\n",
    "\n",
    "# Plot the grayscale image with 'gray' colormap\n",
    "plt.imshow(image, cmap='gray')\n",
    "\n",
    "# Overlay red pixels based on the threshold\n",
    "red_pixels = np.zeros_like(image)\n",
    "red_pixels[image > threshold] = 1\n",
    "plt.imshow(red_pixels, cmap='Reds', alpha=0.5)\n",
    "\n",
    "# Show the plot\n",
    "plt.show()"
   ]
  },
  {
   "cell_type": "code",
   "execution_count": null,
   "id": "e21c4906-9613-4a8f-8fed-a91c81bb12cc",
   "metadata": {},
   "outputs": [],
   "source": []
  },
  {
   "cell_type": "code",
   "execution_count": null,
   "id": "bf08d339-85e8-46fb-bb3c-43800b9bc3fc",
   "metadata": {},
   "outputs": [],
   "source": []
  },
  {
   "cell_type": "code",
   "execution_count": null,
   "id": "14a2fe2a-0e86-4c1c-aa00-0dd5c90caf10",
   "metadata": {},
   "outputs": [],
   "source": []
  },
  {
   "cell_type": "code",
   "execution_count": null,
   "id": "26161aa3-5098-4ddb-b35d-522f1344592c",
   "metadata": {},
   "outputs": [],
   "source": []
  },
  {
   "cell_type": "code",
   "execution_count": null,
   "id": "022e8829-bdb1-4dab-8ba9-fd9c8e670413",
   "metadata": {
    "tags": []
   },
   "outputs": [],
   "source": [
    "import matplotlib.pyplot as plt\n",
    "import numpy as np\n",
    "\n",
    "# Create a sample RGB image (3x3 pixels)\n",
    "rgb_image = np.array([[[128, 0, 0], [0, 1, 0], [255, 0, 1]],\n",
    "                      [[0, 128, 0], [0, 64, 32], [1, 0, 0]],\n",
    "                      [[0, 0, 128], [128, 64, 0], [0, 1, 0]]]).astype('uint8')\n",
    "\n",
    "# Create meshgrid for pcolormesh\n",
    "x, y = np.meshgrid(np.arange(rgb_image.shape[1] + 1), np.arange(rgb_image.shape[0] + 1))\n",
    "\n",
    "# Plot RGB image using pcolormesh\n",
    "fig, ax = plt.subplots()\n",
    "pc = ax.pcolormesh(x, y, rgb_image, edgecolors='k', linewidths=0.1)\n",
    "\n",
    "# Set aspect ratio to 'equal' to avoid stretching the image\n",
    "ax.set_aspect('equal')\n",
    "\n",
    "# Add colorbar\n",
    "#cbar = plt.colorbar(pc)\n",
    "#cbar.set_label('Color')\n",
    "\n",
    "plt.show()\n"
   ]
  },
  {
   "cell_type": "code",
   "execution_count": null,
   "id": "b109ee1a-f0c5-4a6d-8e22-d4e7df922641",
   "metadata": {
    "tags": []
   },
   "outputs": [],
   "source": [
    "image=image_pola[0]"
   ]
  },
  {
   "cell_type": "code",
   "execution_count": null,
   "id": "68e9e0b7-521a-40c3-9c03-671fb660cf95",
   "metadata": {
    "tags": []
   },
   "outputs": [],
   "source": [
    "a=rebin(image,(image.shape[0]//2,image.shape[1]//2))\n",
    "rgb_image=(cv2.merge((a[1::2,1::2],a[0::2,1::2],a[0::2,0::2]))/65520.0*255).astype('uint8')\n",
    "rgb_image.dtype"
   ]
  },
  {
   "cell_type": "code",
   "execution_count": null,
   "id": "0922caf2-492d-41fc-96e3-c2ce16c9cc9d",
   "metadata": {
    "tags": []
   },
   "outputs": [],
   "source": [
    "a=rebin(image,(image.shape[0]//2,image.shape[1]//2))\n",
    "rgb_image=(cv2.merge((a[0::2,1::2],0.5*(a[0::2,1::2]+a[1::2,0::2]),a[1::2,1::2]))/65520.0*255).astype('uint8')\n",
    "rgb_image.dtype"
   ]
  },
  {
   "cell_type": "code",
   "execution_count": null,
   "id": "ed18fc7f-ccab-4384-86c4-68b365fda04c",
   "metadata": {
    "tags": []
   },
   "outputs": [],
   "source": [
    "rgb_image.max()"
   ]
  },
  {
   "cell_type": "code",
   "execution_count": null,
   "id": "cce2f9a0-4618-4d74-81b7-f5330762e635",
   "metadata": {
    "tags": []
   },
   "outputs": [],
   "source": [
    "x, y = np.meshgrid(np.arange(rgb_image.shape[1] + 1), np.arange(rgb_image.shape[0] + 1))\n",
    "\n",
    "# Plot RGB image using pcolormesh\n",
    "fig, ax = plt.subplots()\n",
    "pc = ax.pcolormesh(x, y, rgb_image, edgecolors='k', linewidths=0.0)\n",
    "\n",
    "ax.set_aspect('equal')\n"
   ]
  },
  {
   "cell_type": "code",
   "execution_count": null,
   "id": "551b0434-eedf-4ee3-aa37-559477237757",
   "metadata": {
    "tags": []
   },
   "outputs": [],
   "source": [
    "plt.imshow(rgb_image*15)"
   ]
  },
  {
   "cell_type": "code",
   "execution_count": null,
   "id": "525131a7-5ff1-42c5-94d0-611b1d6409ea",
   "metadata": {},
   "outputs": [],
   "source": []
  },
  {
   "cell_type": "code",
   "execution_count": null,
   "id": "b1851e99-75d3-49e6-ba0c-9c03dedc0ebb",
   "metadata": {},
   "outputs": [],
   "source": []
  },
  {
   "cell_type": "code",
   "execution_count": null,
   "id": "d1d55c53-a92e-4061-9b62-92d362c992cc",
   "metadata": {},
   "outputs": [],
   "source": []
  },
  {
   "cell_type": "code",
   "execution_count": null,
   "id": "3042e727-6763-4a8e-9736-854322395048",
   "metadata": {},
   "outputs": [],
   "source": []
  },
  {
   "cell_type": "code",
   "execution_count": null,
   "id": "80453064-fd3b-4346-bdf7-8570dc00c26b",
   "metadata": {},
   "outputs": [],
   "source": []
  },
  {
   "cell_type": "code",
   "execution_count": null,
   "id": "fabfc04b-f8b9-4d44-b0fc-4292cb049ab8",
   "metadata": {
    "tags": []
   },
   "outputs": [],
   "source": [
    "def F(rho,coeffs):\n",
    "    return coeffs[0]+rho*rho*coeffs[1]+rho*rho*rho*coeffs[2]+rho*rho*rho*rho*coeffs[3]\n",
    "def F0(rho,coeffs):\n",
    "    return coeffs[0]\n",
    "\n",
    "def inverse_distorsion_pil(x):\n",
    "    #A=\n",
    "    coeffs_avec=[5.141286527484923e+02,-7.116718095945076e-04,3.985956960008606e-07,-5.221100719519486e-10] \n",
    "    return np.arctan2(x,F(x,coeffs_avec))\n",
    "def inverse_distorsion_pil0(x):\n",
    "    #A=\n",
    "    coeffs_avec=[5.141286527484923e+02,-7.116718095945076e-04,3.985956960008606e-07,-5.221100719519486e-10] \n",
    "    return np.arctan2(x,F0(x,coeffs_avec))\n",
    "\n",
    "plt.figure()\n",
    "plt.title(\"inv distorsion\")\n",
    "x_plot=np.arange(0,1000,1)\n",
    "#print(x_plot)\n",
    "\n",
    "plt.plot(x_plot,inverse_distorsion_pil(x_plot)*180/np.pi)\n",
    "plt.plot(x_plot,inverse_distorsion_pil0(x_plot)*180/np.pi)\n",
    "plt.plot(x_plot,x_plot/5.141286527484923e+02*180/np.pi)\n",
    "plt.xlabel(\"pixels\")\n",
    "plt.ylabel(\"angle\")\n",
    "plt.show()\n",
    "\n",
    "plt.figure()\n",
    "plt.title(\"diff inv distorsion\")\n",
    "x_plot=np.arange(0,1000,1)\n",
    "#print(x_plot)\n",
    "\n",
    "plt.plot(x_plot,inverse_distorsion_pil(x_plot)*180/np.pi-x_plot/5.141286527484923e+02*180/np.pi)\n",
    "#plt.plot(x_plot,)\n",
    "\n",
    "plt.xlabel(\"pixels\")\n",
    "plt.ylabel(\"angle\")\n",
    "plt.show()\n",
    "\n",
    "plt.figure()\n",
    "plt.title(\"inv distorsion\")\n",
    "x_plot=np.arange(0,1000,1)\n",
    "#print(x_plot)\n",
    "\n",
    "plt.plot(x_plot,inverse_distorsion_pil(x_plot)*180/np.pi)\n",
    "plt.xlabel(\"pixels\")\n",
    "plt.ylabel(\"angle\")\n",
    "plt.show()"
   ]
  },
  {
   "cell_type": "code",
   "execution_count": null,
   "id": "0065e619-8f40-4068-85bb-4efaa98df4f8",
   "metadata": {},
   "outputs": [],
   "source": []
  },
  {
   "cell_type": "code",
   "execution_count": null,
   "id": "4c4bb166-f272-469d-a8da-3c0ff00d316c",
   "metadata": {},
   "outputs": [],
   "source": []
  },
  {
   "cell_type": "code",
   "execution_count": null,
   "id": "5c21b05a-ef58-47b0-8caa-6b26321eedc9",
   "metadata": {
    "tags": []
   },
   "outputs": [],
   "source": [
    "images_pola[0]"
   ]
  },
  {
   "cell_type": "code",
   "execution_count": null,
   "id": "c7eda0f3-9a23-4875-89ae-87ae20447055",
   "metadata": {
    "tags": []
   },
   "outputs": [],
   "source": [
    "i=12\n",
    "images_pola=np.load(in_path+dirs_files[i],allow_pickle=True)\n",
    "images_pola=np.concatenate((images_pola,np.load(in_path+dirs_files[i+1],allow_pickle=True)))\n",
    "images_pola=np.concatenate((images_pola,np.load(in_path+dirs_files[i+2],allow_pickle=True)))\n",
    "images_pola=np.concatenate((images_pola,np.load(in_path+dirs_files[i+3],allow_pickle=True)))\n",
    "\n",
    "#images_pola=np.concatenate(images_pola,np.load(in_path+dirs_files[10],allow_pickle=True))\n",
    "\n",
    "\n",
    "video=[]\n",
    "for img_pol in images_pola:\n",
    "    if img_pol[3]==5:\n",
    "        video.append(img_pol[0])\n",
    "video=np.array(video)\n",
    "print(video.shape)"
   ]
  },
  {
   "cell_type": "code",
   "execution_count": null,
   "id": "7f034918-63e7-4837-8618-2b6b2b84f095",
   "metadata": {
    "tags": []
   },
   "outputs": [],
   "source": [
    "(images_pola+images_pola).shape"
   ]
  },
  {
   "cell_type": "code",
   "execution_count": null,
   "id": "df2c2771-fe8b-4e15-a942-c5e1e7bad103",
   "metadata": {
    "tags": []
   },
   "outputs": [],
   "source": [
    "%matplotlib inline\n",
    "from matplotlib import pyplot as plt\n",
    "from matplotlib import animation\n",
    "from IPython.display import HTML\n",
    "\n",
    "plt.rcParams['animation.embed_limit'] = 40.0\n",
    "\n",
    "fig = plt.figure()\n",
    "im = plt.imshow(video[0])\n",
    "plt.grid(False)\n",
    "\n",
    "plt.close() # this is required to not display the generated image\n",
    "\n",
    "def init():\n",
    "    im.set_data(video[0])\n",
    "\n",
    "def animate(i):\n",
    "    im.set_data(video[i])\n",
    "    #fig.title(results[results[:,3]==0,0])\n",
    "    #print(i,video[i][600,950])\n",
    "    return im\n",
    "\n",
    "anim = animation.FuncAnimation(fig, animate, init_func=init, frames=video.shape[0],\n",
    "                               interval=50)\n",
    "#HTML(anim.to_html5_video())\n",
    "display(HTML(anim.to_jshtml()))"
   ]
  },
  {
   "cell_type": "code",
   "execution_count": null,
   "id": "3ca28776-8304-48f7-9bdb-a9b4d2be9915",
   "metadata": {},
   "outputs": [],
   "source": []
  },
  {
   "cell_type": "code",
   "execution_count": null,
   "id": "d47b92a2-e893-414e-93f7-2e9d6f7d9b85",
   "metadata": {},
   "outputs": [],
   "source": []
  },
  {
   "cell_type": "code",
   "execution_count": null,
   "id": "d714d626-5dd7-4ac2-bd61-8d3d1535b69f",
   "metadata": {},
   "outputs": [],
   "source": []
  },
  {
   "cell_type": "code",
   "execution_count": null,
   "id": "74c71351-eb79-4b29-a781-3b545902a0ab",
   "metadata": {},
   "outputs": [],
   "source": []
  },
  {
   "cell_type": "code",
   "execution_count": null,
   "id": "e70d44cc-87d7-4dc3-a631-f6d7a8c850b7",
   "metadata": {},
   "outputs": [],
   "source": []
  },
  {
   "cell_type": "code",
   "execution_count": null,
   "id": "30c9d9ac-ffb4-4bda-8a4f-e6f8b5e8d7ca",
   "metadata": {},
   "outputs": [],
   "source": []
  },
  {
   "cell_type": "code",
   "execution_count": null,
   "id": "541f0042-e394-4a01-ac3a-2744af66fc4b",
   "metadata": {},
   "outputs": [],
   "source": []
  },
  {
   "cell_type": "code",
   "execution_count": null,
   "id": "182adecc-b129-43f1-836c-b378cdb2ab77",
   "metadata": {
    "tags": []
   },
   "outputs": [],
   "source": [
    "i=12"
   ]
  },
  {
   "cell_type": "code",
   "execution_count": null,
   "id": "02e11f18-505a-4660-888b-904d21f6dca7",
   "metadata": {
    "tags": []
   },
   "outputs": [],
   "source": [
    "i=12\n",
    "images_pola=np.load(in_path+dirs_files[i],allow_pickle=True)\n",
    "images_pola=np.concatenate((images_pola,np.load(in_path+dirs_files[i+1],allow_pickle=True)))\n",
    "images_pola=np.concatenate((images_pola,np.load(in_path+dirs_files[i+2],allow_pickle=True)))\n",
    "images_pola=np.concatenate((images_pola,np.load(in_path+dirs_files[i+3],allow_pickle=True)))\n",
    "\n",
    "#images_pola=np.concatenate(images_pola,np.load(in_path+dirs_files[10],allow_pickle=True))\n",
    "\n",
    "\n",
    "video=[]\n",
    "for img_pol in images_pola:\n",
    "    if img_pol[3]==5:\n",
    "        \n",
    "        a=rebin(img_pol[0],(img_pol[0].shape[0]//2,img_pol[0].shape[1]//2))\n",
    "        rgb_image=(cv2.merge((a[0::2,1::2],0.5*(a[0::2,1::2]+a[1::2,0::2]),a[1::2,1::2]))/65520.0*255).astype('uint8')\n",
    "        \n",
    "        video.append(rgb_image)\n",
    "        \n",
    "#        video.append(img_pol[0])\n",
    "video=np.array(video)\n",
    "print(video.shape)"
   ]
  },
  {
   "cell_type": "code",
   "execution_count": null,
   "id": "5d5fdb99-b00b-4046-a416-d7edaa004b26",
   "metadata": {
    "tags": []
   },
   "outputs": [],
   "source": [
    "%matplotlib inline\n",
    "from matplotlib import pyplot as plt\n",
    "from matplotlib import animation\n",
    "from IPython.display import HTML\n",
    "\n",
    "plt.rcParams['animation.embed_limit'] = 40.0\n",
    "\n",
    "fig = plt.figure()\n",
    "im = plt.imshow(video[0])\n",
    "plt.grid(False)\n",
    "\n",
    "plt.close() # this is required to not display the generated image\n",
    "\n",
    "def init():\n",
    "    im.set_data(video[0])\n",
    "\n",
    "def animate(i):\n",
    "    im.set_data(video[i])\n",
    "    #fig.title(results[results[:,3]==0,0])\n",
    "    #print(i,video[i][600,950])\n",
    "    return im\n",
    "\n",
    "anim = animation.FuncAnimation(fig, animate, init_func=init, frames=video.shape[0],\n",
    "                               interval=50)\n",
    "#HTML(anim.to_html5_video())\n",
    "display(HTML(anim.to_jshtml()))"
   ]
  },
  {
   "cell_type": "code",
   "execution_count": null,
   "id": "92159002-b734-4d42-a497-9c07b4d2937b",
   "metadata": {
    "tags": []
   },
   "outputs": [],
   "source": []
  },
  {
   "cell_type": "code",
   "execution_count": null,
   "id": "ed48ee35-020b-419a-a654-f9e2d9a38fab",
   "metadata": {},
   "outputs": [],
   "source": []
  }
 ],
 "metadata": {
  "kernelspec": {
   "display_name": "Python 3 (ipykernel)",
   "language": "python",
   "name": "python3"
  },
  "language_info": {
   "codemirror_mode": {
    "name": "ipython",
    "version": 3
   },
   "file_extension": ".py",
   "mimetype": "text/x-python",
   "name": "python",
   "nbconvert_exporter": "python",
   "pygments_lexer": "ipython3",
   "version": "3.9.6"
  }
 },
 "nbformat": 4,
 "nbformat_minor": 5
}
