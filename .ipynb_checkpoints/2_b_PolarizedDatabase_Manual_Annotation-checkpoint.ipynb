{
 "cells": [
  {
   "cell_type": "markdown",
   "metadata": {},
   "source": [
    "# Image Annotator for Labelling Images Into User-Defined Categories\n",
    "Adapted from : https://blogs.sas.com/content/subconsciousmusings/2021/11/23/introducing-jupicl-fast-image-labelling-entirely-within-a-jupyter-notebook/\n",
    "\n",
    "This code displays each image in dataset and allow user to specify weather conditions he can observe (cloudy or not).\n",
    "\n",
    "Input : PolarizedDatabase folder with cropped images grouped in numpy files, you can download all or only some of the \"YYY-MM-DD_raw.npy\" file days to accelerate processing on your computer.\n",
    "\n",
    "Output : Files with same timestamps than input file in a column and annotations in another column.\n"
   ]
  },
  {
   "cell_type": "markdown",
   "metadata": {},
   "source": [
    "## Import packages and define essential helper functions"
   ]
  },
  {
   "cell_type": "code",
   "execution_count": 1,
   "metadata": {
    "tags": []
   },
   "outputs": [],
   "source": [
    "import cv2\n",
    "from IPython.display import display, clear_output\n",
    "from PIL import Image\n",
    "import os\n",
    "\n",
    "import numpy as np\n",
    "import matplotlib.pyplot as plt\n",
    "from datetime import datetime\n",
    "from collections import defaultdict\n"
   ]
  },
  {
   "cell_type": "code",
   "execution_count": 2,
   "metadata": {
    "tags": []
   },
   "outputs": [],
   "source": [
    "in_path=\"/scratch/lpoughon/PolarizedDatabase/\"\n",
    "calib_path=\"/scratch/lpoughon/PolarizedDatabase/calib/\"\n",
    "out_path=\"/scratch/lpoughon/PolarizedDatabase/\"\n",
    "limit_Zenith_Angle=np.pi*0.5 #Limit Zenith Angle to crop circularly data inside of camera field-of-view.\n",
    "\n",
    "dirs = os.listdir( in_path ) # Listing Files\n",
    "dirs_files=[]\n",
    "for file in dirs:\n",
    "    if file[-7:]=='raw.npy': # Keeping only ones with \".npy\" files. \n",
    "        dirs_files.append(file)\n",
    "dirs_files.sort() #We sort the files in alphabetical order. \n",
    "# Since the format is YYYY-MM-DDTHH-mm-ss.npy, the files are sorted in chronological order."
   ]
  },
  {
   "cell_type": "markdown",
   "metadata": {
    "tags": []
   },
   "source": [
    "### Choose file to annotate by changing the number you want"
   ]
  },
  {
   "cell_type": "code",
   "execution_count": 10,
   "metadata": {
    "tags": []
   },
   "outputs": [
    {
     "name": "stdout",
     "output_type": "stream",
     "text": [
      "File used : /scratch/lpoughon/PolarizedDatabase/2022-07-30_raw.npy\n",
      "Will save results in :/scratch/lpoughon/PolarizedDatabase/2022-07-30_raw_annotations.npy\n"
     ]
    }
   ],
   "source": [
    "day_wanted=1 # Change tha to choose what day to annotate\n",
    "print(\"File used :\",in_path+dirs_files[day_wanted])\n",
    "images_pola=np.load(in_path+dirs_files[day_wanted],allow_pickle=True)\n",
    "save_path=out_path+dirs_files[day_wanted].split(\".npy\")[0]+\"_annotations.npy\"\n",
    "print(\"Will save results in :\"+save_path)\n",
    "#images=images_pola[:,0]"
   ]
  },
  {
   "cell_type": "code",
   "execution_count": 3,
   "metadata": {
    "tags": []
   },
   "outputs": [],
   "source": [
    "def mkdict_from_user():\n",
    "    userdict = {}\n",
    "    while True:\n",
    "        res = input(\"Enter 'class_labels:keyboard_shortcut', such as 'bag:b', or 'q' to quit -->  \")\n",
    "        if res == 'q':\n",
    "            break\n",
    "        else:\n",
    "            key, val = res.split(':')\n",
    "            userdict[key] = val\n",
    "    \n",
    "    return userdict"
   ]
  },
  {
   "cell_type": "code",
   "execution_count": 4,
   "metadata": {
    "tags": []
   },
   "outputs": [],
   "source": [
    "def get_userinput(user_labels):\n",
    "    \n",
    "    notes = 'default'\n",
    "    \n",
    "    valid_labels = tuple(user_labels.values())\n",
    "    \n",
    "    while True:\n",
    "        KBN = Keyborad_Shortcut_For_Notes = '7'\n",
    "        \n",
    "        userinput = input(f\"Valid Shortcuts: {valid_labels} <Append'{KBN}' for Notes> ... \")\n",
    "        \n",
    "        L = len(userinput)\n",
    "        if L not in [1,2]:\n",
    "            print('Invalid input, try again...')\n",
    "            continue\n",
    "        \n",
    "        if userinput[0] not in valid_labels:\n",
    "            print(f'Invalid input, valid labels are {valid_labels} try again...')\n",
    "            continue\n",
    "            \n",
    "        if L==2:\n",
    "            if userinput[1] != KBN:\n",
    "                print(f\"Invalid, second letter if present must be the keyboard shortcut for notes: '{KBN}' \")\n",
    "            else:\n",
    "                usernote  = input(\"Notes: \")\n",
    "                if len(usernote)>0:\n",
    "                    notes = usernote\n",
    "                break\n",
    "        \n",
    "        else:\n",
    "            break\n",
    "        \n",
    "    return userinput[0], notes\n",
    "            "
   ]
  },
  {
   "cell_type": "markdown",
   "metadata": {},
   "source": [
    "## Define the main driver function for labelling"
   ]
  },
  {
   "cell_type": "code",
   "execution_count": 5,
   "metadata": {
    "tags": []
   },
   "outputs": [],
   "source": [
    "# the list that will contain timestamps and corresponding annotations\n",
    "liste_sortie_annotee=np.array(images_pola[:,2])\n",
    "liste_sortie_annotee=np.c_[liste_sortie_annotee,np.zeros(liste_sortie_annotee.shape[0])]\n"
   ]
  },
  {
   "cell_type": "code",
   "execution_count": 6,
   "metadata": {
    "tags": []
   },
   "outputs": [],
   "source": [
    "def goLabel_acq(user_labels, images_pola, liste_sortie_annotee):\n",
    "    #src_imgdir = f\"./images/\"\n",
    "\n",
    "    timestamps=images_pola[:,2]\n",
    "    # Convert timestamps to datetime objects\n",
    "    datetime_objects = [datetime.strptime(timestamp, '%Y-%m-%dT%H-%M-%S') for timestamp in timestamps]\n",
    "\n",
    "    # Round the minutes to the nearest 10 minutes\n",
    "    rounded_datetimes = [dt.replace(minute=(dt.minute // 10) * 10, second=0) for dt in datetime_objects]\n",
    "\n",
    "    # Group the timestamps into a dictionary based on rounded timestamps\n",
    "    result_dict = defaultdict(list)\n",
    "    result_dict_i = defaultdict(list)\n",
    "\n",
    "    for i, rounded_dt in enumerate(rounded_datetimes):\n",
    "        result_dict_i[rounded_dt].append(i)    \n",
    "        result_dict[rounded_dt].append(timestamps[i])\n",
    "\n",
    "    # Convert the defaultdict to a regular dictionary for a cleaner output (optional)\n",
    "    result_dict = dict(result_dict)\n",
    "\n",
    "    ## Print the result\n",
    "    #for key, value in result_dict_i.items():\n",
    "    #    print(f\"{key}: {value}\")\n",
    "    \n",
    "    \n",
    "    def plot_mosaic(images, rows, cols): # Function to display images in a mosaic plot\n",
    "        subsampl=4 #subsampling\n",
    "        fig, axs = plt.subplots(rows, cols, figsize=(cols*4, rows*4))\n",
    "        fig.suptitle(str(timestamp[0])+\" \")\n",
    "        for i, ax in enumerate(axs.flat):\n",
    "            if i < len(images):\n",
    "                img = images[i]\n",
    "                ax.imshow(img[::subsampl,::subsampl], cmap='gray')  # Assuming images are grayscale\n",
    "                ax.set_title(\"img_type \"+str(image_type[i])+\" \\n expo : \"+str(exposure[i])+\" µs\")\n",
    "\n",
    "\n",
    "                ax.axis('off')\n",
    "            else:\n",
    "                ax.remove()\n",
    "\n",
    "        return fig\n",
    "    \n",
    "\n",
    "    \n",
    "    sess_count = 0\n",
    "    \n",
    "    for my_datetime in (list(result_dict_i.keys())):\n",
    "        \n",
    "        # Extract image data, exposure, and timestamp from the array\n",
    "        indices_to_highlight=result_dict_i[my_datetime]\n",
    "        data = images_pola[indices_to_highlight,:]\n",
    "    \n",
    "    \n",
    "        images = data[:, 0]\n",
    "        exposure = data[:, 1]\n",
    "        timestamp = data[:, 2]\n",
    "        image_type=data[:,3]\n",
    "\n",
    "        N=data.shape[0]\n",
    "\n",
    "        sess_count += 1\n",
    "\n",
    "        # Specify the number of rows and columns in the mosaic\n",
    "        cols = 4\n",
    "        rows = N//cols+1\n",
    "\n",
    "\n",
    "        # Display the mosaic plot\n",
    "        mafig=plot_mosaic(images, rows, cols)\n",
    "        display(plt.gcf()) \n",
    "        #display(Image.fromarray(img))\n",
    "        print(f'Now Showing {timestamp[0]}'+\" (\"+str(sess_count)+\"/\"+str(len(list(result_dict_i.keys())))+\")\")\n",
    "        \n",
    "        label, notes = get_userinput(user_labels)\n",
    "        liste_sortie_annotee[indices_to_highlight,1]=label#'c'\n",
    "        print(\"Choisi : \",label)\n",
    "        #if notes != 'default':\n",
    "\n",
    "        \n",
    "        clear_output()\n",
    "        \n",
    "\n",
    "        plt.close()\n",
    "    \n",
    "\n",
    "    print(f\"You Labelled {sess_count} images in this round. Hooray!\")\n",
    "    return liste_sortie_annotee#Notes"
   ]
  },
  {
   "cell_type": "markdown",
   "metadata": {},
   "source": [
    "## Set up labels and keyboard shortcuts\n",
    "\n",
    "#### For example :\n",
    "\n",
    "cloud:c\n",
    "\n",
    "hazy:h\n",
    "\n",
    "clear:n"
   ]
  },
  {
   "cell_type": "code",
   "execution_count": 7,
   "metadata": {
    "tags": []
   },
   "outputs": [
    {
     "name": "stdin",
     "output_type": "stream",
     "text": [
      "Enter 'class_labels:keyboard_shortcut', such as 'bag:b', or 'q' to quit -->   cloudy:c\n",
      "Enter 'class_labels:keyboard_shortcut', such as 'bag:b', or 'q' to quit -->   hazy:h\n",
      "Enter 'class_labels:keyboard_shortcut', such as 'bag:b', or 'q' to quit -->   clear:n\n",
      "Enter 'class_labels:keyboard_shortcut', such as 'bag:b', or 'q' to quit -->   q\n"
     ]
    }
   ],
   "source": [
    "user_labels = mkdict_from_user()"
   ]
  },
  {
   "cell_type": "markdown",
   "metadata": {},
   "source": [
    "## Main driver for labelling\n",
    "### Rerun the following cell as many times as needed to label more batches of images"
   ]
  },
  {
   "cell_type": "code",
   "execution_count": 8,
   "metadata": {
    "tags": []
   },
   "outputs": [
    {
     "name": "stdout",
     "output_type": "stream",
     "text": [
      "You Labelled 74 images in this round. Hooray!\n"
     ]
    }
   ],
   "source": [
    "labels=goLabel_acq(user_labels, images_pola, liste_sortie_annotee)\n"
   ]
  },
  {
   "cell_type": "code",
   "execution_count": null,
   "metadata": {},
   "outputs": [],
   "source": []
  },
  {
   "cell_type": "code",
   "execution_count": 9,
   "metadata": {
    "tags": []
   },
   "outputs": [],
   "source": [
    "np.save(save_path,labels)"
   ]
  },
  {
   "cell_type": "code",
   "execution_count": null,
   "metadata": {
    "tags": []
   },
   "outputs": [],
   "source": []
  },
  {
   "cell_type": "code",
   "execution_count": null,
   "metadata": {
    "tags": []
   },
   "outputs": [],
   "source": []
  },
  {
   "cell_type": "code",
   "execution_count": null,
   "metadata": {},
   "outputs": [],
   "source": []
  }
 ],
 "metadata": {
  "kernelspec": {
   "display_name": "Python 3 (ipykernel)",
   "language": "python",
   "name": "python3"
  },
  "language_info": {
   "codemirror_mode": {
    "name": "ipython",
    "version": 3
   },
   "file_extension": ".py",
   "mimetype": "text/x-python",
   "name": "python",
   "nbconvert_exporter": "python",
   "pygments_lexer": "ipython3",
   "version": "3.9.6"
  }
 },
 "nbformat": 4,
 "nbformat_minor": 4
}
